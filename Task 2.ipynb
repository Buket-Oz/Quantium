{
 "cells": [
  {
   "cell_type": "markdown",
   "id": "9c3cdae4-8d9f-4751-a11f-b10970873714",
   "metadata": {},
   "source": [
    "# Importing libraries and Data"
   ]
  },
  {
   "cell_type": "code",
   "execution_count": 3,
   "id": "5291835d-27be-4cb9-ae13-0ca110ef50c4",
   "metadata": {},
   "outputs": [],
   "source": [
    "#Import libraries\n",
    "import pandas as pd\n",
    "import numpy as np\n",
    "import seaborn as sns\n",
    "import matplotlib.pyplot as plt\n",
    "import matplotlib\n",
    "import os"
   ]
  },
  {
   "cell_type": "code",
   "execution_count": 5,
   "id": "778461a9-6feb-43ea-9529-10ac255f8fa2",
   "metadata": {},
   "outputs": [],
   "source": [
    "#Create a path and import the dataframe\n",
    "path = r'/Users/buketoztekin/Documents/Quantium/'\n",
    "file_path = os.path.join(path, '2_Data', 'data_normal.csv')\n",
    "df = pd.read_csv(file_path)"
   ]
  },
  {
   "cell_type": "code",
   "execution_count": 7,
   "id": "5a18614f-3bf5-4fa2-bd93-a577a5e26fde",
   "metadata": {},
   "outputs": [
    {
     "data": {
      "text/html": [
       "<div>\n",
       "<style scoped>\n",
       "    .dataframe tbody tr th:only-of-type {\n",
       "        vertical-align: middle;\n",
       "    }\n",
       "\n",
       "    .dataframe tbody tr th {\n",
       "        vertical-align: top;\n",
       "    }\n",
       "\n",
       "    .dataframe thead th {\n",
       "        text-align: right;\n",
       "    }\n",
       "</style>\n",
       "<table border=\"1\" class=\"dataframe\">\n",
       "  <thead>\n",
       "    <tr style=\"text-align: right;\">\n",
       "      <th></th>\n",
       "      <th>LYLTY_CARD_NBR</th>\n",
       "      <th>LIFESTAGE</th>\n",
       "      <th>PREMIUM_CUSTOMER</th>\n",
       "      <th>DATE</th>\n",
       "      <th>STORE_NBR</th>\n",
       "      <th>TXN_ID</th>\n",
       "      <th>PROD_NBR</th>\n",
       "      <th>PROD_NAME</th>\n",
       "      <th>PROD_QTY</th>\n",
       "      <th>TOT_SALES</th>\n",
       "      <th>PACK_SIZE</th>\n",
       "      <th>BRAND</th>\n",
       "      <th>BULK_PURCHASE</th>\n",
       "      <th>PRICE_PER_UNIT</th>\n",
       "    </tr>\n",
       "  </thead>\n",
       "  <tbody>\n",
       "    <tr>\n",
       "      <th>0</th>\n",
       "      <td>1000</td>\n",
       "      <td>YOUNG SINGLES/COUPLES</td>\n",
       "      <td>Premium</td>\n",
       "      <td>2018-10-17</td>\n",
       "      <td>1</td>\n",
       "      <td>1</td>\n",
       "      <td>5</td>\n",
       "      <td>Natural Chip        Compny SeaSalt175g</td>\n",
       "      <td>2</td>\n",
       "      <td>6.0</td>\n",
       "      <td>175</td>\n",
       "      <td>Natural Chip Company</td>\n",
       "      <td>NO</td>\n",
       "      <td>3.0</td>\n",
       "    </tr>\n",
       "    <tr>\n",
       "      <th>1</th>\n",
       "      <td>1002</td>\n",
       "      <td>YOUNG SINGLES/COUPLES</td>\n",
       "      <td>Mainstream</td>\n",
       "      <td>2018-09-16</td>\n",
       "      <td>1</td>\n",
       "      <td>2</td>\n",
       "      <td>58</td>\n",
       "      <td>Red Rock Deli Chikn&amp;Garlic Aioli 150g</td>\n",
       "      <td>1</td>\n",
       "      <td>2.7</td>\n",
       "      <td>150</td>\n",
       "      <td>Red Rock Deli</td>\n",
       "      <td>NO</td>\n",
       "      <td>2.7</td>\n",
       "    </tr>\n",
       "    <tr>\n",
       "      <th>2</th>\n",
       "      <td>1003</td>\n",
       "      <td>YOUNG FAMILIES</td>\n",
       "      <td>Budget</td>\n",
       "      <td>2019-03-07</td>\n",
       "      <td>1</td>\n",
       "      <td>3</td>\n",
       "      <td>52</td>\n",
       "      <td>Grain Waves Sour    Cream&amp;Chives 210G</td>\n",
       "      <td>1</td>\n",
       "      <td>3.6</td>\n",
       "      <td>210</td>\n",
       "      <td>Grain Waves</td>\n",
       "      <td>NO</td>\n",
       "      <td>3.6</td>\n",
       "    </tr>\n",
       "    <tr>\n",
       "      <th>3</th>\n",
       "      <td>1003</td>\n",
       "      <td>YOUNG FAMILIES</td>\n",
       "      <td>Budget</td>\n",
       "      <td>2019-03-08</td>\n",
       "      <td>1</td>\n",
       "      <td>4</td>\n",
       "      <td>106</td>\n",
       "      <td>Natural ChipCo      Hony Soy Chckn175g</td>\n",
       "      <td>1</td>\n",
       "      <td>3.0</td>\n",
       "      <td>175</td>\n",
       "      <td>Natural Chip Company</td>\n",
       "      <td>NO</td>\n",
       "      <td>3.0</td>\n",
       "    </tr>\n",
       "    <tr>\n",
       "      <th>4</th>\n",
       "      <td>1004</td>\n",
       "      <td>OLDER SINGLES/COUPLES</td>\n",
       "      <td>Mainstream</td>\n",
       "      <td>2018-11-02</td>\n",
       "      <td>1</td>\n",
       "      <td>5</td>\n",
       "      <td>96</td>\n",
       "      <td>WW Original Stacked Chips 160g</td>\n",
       "      <td>1</td>\n",
       "      <td>1.9</td>\n",
       "      <td>160</td>\n",
       "      <td>Woolworths</td>\n",
       "      <td>NO</td>\n",
       "      <td>1.9</td>\n",
       "    </tr>\n",
       "  </tbody>\n",
       "</table>\n",
       "</div>"
      ],
      "text/plain": [
       "   LYLTY_CARD_NBR              LIFESTAGE PREMIUM_CUSTOMER        DATE  \\\n",
       "0            1000  YOUNG SINGLES/COUPLES          Premium  2018-10-17   \n",
       "1            1002  YOUNG SINGLES/COUPLES       Mainstream  2018-09-16   \n",
       "2            1003         YOUNG FAMILIES           Budget  2019-03-07   \n",
       "3            1003         YOUNG FAMILIES           Budget  2019-03-08   \n",
       "4            1004  OLDER SINGLES/COUPLES       Mainstream  2018-11-02   \n",
       "\n",
       "   STORE_NBR  TXN_ID  PROD_NBR                               PROD_NAME  \\\n",
       "0          1       1         5  Natural Chip        Compny SeaSalt175g   \n",
       "1          1       2        58   Red Rock Deli Chikn&Garlic Aioli 150g   \n",
       "2          1       3        52   Grain Waves Sour    Cream&Chives 210G   \n",
       "3          1       4       106  Natural ChipCo      Hony Soy Chckn175g   \n",
       "4          1       5        96          WW Original Stacked Chips 160g   \n",
       "\n",
       "   PROD_QTY  TOT_SALES  PACK_SIZE                 BRAND BULK_PURCHASE  \\\n",
       "0         2        6.0        175  Natural Chip Company            NO   \n",
       "1         1        2.7        150         Red Rock Deli            NO   \n",
       "2         1        3.6        210           Grain Waves            NO   \n",
       "3         1        3.0        175  Natural Chip Company            NO   \n",
       "4         1        1.9        160            Woolworths            NO   \n",
       "\n",
       "   PRICE_PER_UNIT  \n",
       "0             3.0  \n",
       "1             2.7  \n",
       "2             3.6  \n",
       "3             3.0  \n",
       "4             1.9  "
      ]
     },
     "execution_count": 7,
     "metadata": {},
     "output_type": "execute_result"
    }
   ],
   "source": [
    "df.head()"
   ]
  },
  {
   "cell_type": "code",
   "execution_count": 9,
   "id": "5d5dcf5d-c16d-4aa7-aa70-912d00483271",
   "metadata": {},
   "outputs": [
    {
     "data": {
      "text/plain": [
       "(245301, 14)"
      ]
     },
     "execution_count": 9,
     "metadata": {},
     "output_type": "execute_result"
    }
   ],
   "source": [
    "df.shape"
   ]
  },
  {
   "cell_type": "code",
   "execution_count": 13,
   "id": "49c88764-fc40-4db6-8cca-02d0df4eab4e",
   "metadata": {},
   "outputs": [
    {
     "name": "stdout",
     "output_type": "stream",
     "text": [
      "        DATE  YEARMONTH\n",
      "0 2018-10-17     201810\n",
      "1 2018-09-16     201809\n",
      "2 2019-03-07     201903\n",
      "3 2019-03-08     201903\n",
      "4 2018-11-02     201811\n"
     ]
    }
   ],
   "source": [
    "# Ensure the column is in datetime format\n",
    "df[\"DATE\"] = pd.to_datetime(df[\"DATE\"], errors=\"coerce\")  # Convert to datetime\n",
    "\n",
    "# Now convert to YYYYMM format\n",
    "df[\"YEARMONTH\"] = df[\"DATE\"].dt.strftime(\"%Y%m\").astype(int)\n",
    "\n",
    "# Check the result\n",
    "print(df[[\"DATE\", \"YEARMONTH\"]].head())"
   ]
  },
  {
   "cell_type": "markdown",
   "id": "63bc1a94-2eaa-43b2-bbaa-065b8e20d457",
   "metadata": {},
   "source": [
    "# Selecting Control Stores"
   ]
  },
  {
   "cell_type": "code",
   "execution_count": 34,
   "id": "cf7c6d33-abbb-4ac0-8267-7a91ee13e894",
   "metadata": {},
   "outputs": [
    {
     "name": "stdout",
     "output_type": "stream",
     "text": [
      "   STORE_NBR  YEARMONTH  totSales  nCustomers  nTxn  nTxnPerCust\n",
      "0          1     201807     188.9          47    49     1.042553\n",
      "1          1     201808     168.4          41    41     1.000000\n",
      "2          1     201809     268.1          57    59     1.035088\n",
      "3          1     201810     175.4          39    40     1.025641\n",
      "4          1     201811     184.8          44    45     1.022727\n",
      "5          1     201812     160.6          37    40     1.081081\n",
      "6          1     201901     144.5          33    33     1.000000\n",
      "7          1     201902     192.1          48    50     1.041667\n",
      "8          1     201903     185.2          43    47     1.093023\n",
      "9          1     201904     177.4          39    40     1.025641\n"
     ]
    }
   ],
   "source": [
    "# Aggregate monthly metrics for each store\n",
    "store_metrics = df.groupby([\"STORE_NBR\", \"YEARMONTH\"]).agg(\n",
    "    totSales=(\"TOT_SALES\", \"sum\"),        \n",
    "    nCustomers=(\"LYLTY_CARD_NBR\", \"nunique\"),  \n",
    "    nTxn=(\"TXN_ID\", \"count\")             \n",
    ").reset_index()\n",
    "\n",
    "# Compute transactions per customer\n",
    "store_metrics[\"nTxnPerCust\"] = store_metrics[\"nTxn\"] / store_metrics[\"nCustomers\"]\n",
    "\n",
    "# View the first few rows\n",
    "print(store_metrics.head(10))"
   ]
  },
  {
   "cell_type": "code",
   "execution_count": 36,
   "id": "96a35817-b49b-46ea-aa25-cfa7b06a3522",
   "metadata": {},
   "outputs": [
    {
     "name": "stdout",
     "output_type": "stream",
     "text": [
      "   STORE_NBR  YEARMONTH  totSales  nCustomers  nTxn  nTxnPerCust\n",
      "0          1     201807     188.9          47    49     1.042553\n",
      "1          1     201808     168.4          41    41     1.000000\n",
      "2          1     201809     268.1          57    59     1.035088\n",
      "3          1     201810     175.4          39    40     1.025641\n",
      "4          1     201811     184.8          44    45     1.022727\n"
     ]
    }
   ],
   "source": [
    "# Keep only pre-trial data (before February 2019)\n",
    "pre_trial_stores = store_metrics[store_metrics[\"YEARMONTH\"] < 201902]\n",
    "\n",
    "# Check the first few rows\n",
    "print(pre_trial_stores.head())"
   ]
  },
  {
   "cell_type": "code",
   "execution_count": null,
   "id": "044a9a8b-5ad8-4b22-9fc5-2181ed18f299",
   "metadata": {},
   "outputs": [],
   "source": []
  }
 ],
 "metadata": {
  "kernelspec": {
   "display_name": "Python [conda env:base] *",
   "language": "python",
   "name": "conda-base-py"
  },
  "language_info": {
   "codemirror_mode": {
    "name": "ipython",
    "version": 3
   },
   "file_extension": ".py",
   "mimetype": "text/x-python",
   "name": "python",
   "nbconvert_exporter": "python",
   "pygments_lexer": "ipython3",
   "version": "3.11.7"
  }
 },
 "nbformat": 4,
 "nbformat_minor": 5
}
