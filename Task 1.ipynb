{
 "cells": [
  {
   "cell_type": "code",
   "execution_count": 1,
   "id": "b4eecdb5-f516-44d7-b566-b6a5f4f463aa",
   "metadata": {},
   "outputs": [],
   "source": [
    "import pandas as pd\n",
    "import numpy as np\n",
    "import seaborn as sns\n",
    "import matplotlib.pyplot as plt\n",
    "import matplotlib\n",
    "import os\n",
    "\n"
   ]
  },
  {
   "cell_type": "code",
   "execution_count": 11,
   "id": "3389e809-f49c-4f74-9eef-823a9c71ddbd",
   "metadata": {},
   "outputs": [],
   "source": [
    "path = r'/Users/buketoztekin/Documents/Quantium/'"
   ]
  },
  {
   "cell_type": "code",
   "execution_count": 15,
   "id": "1a1c54e0-99b0-4c69-a6d7-fb2623c6d9ab",
   "metadata": {},
   "outputs": [],
   "source": [
    "file_path = os.path.join(path, '2_Data', 'QVI_purchase_behaviour.csv')\n",
    "df_purchase = pd.read_csv(file_path)"
   ]
  },
  {
   "cell_type": "code",
   "execution_count": 19,
   "id": "9736b0f8-9b3c-4e48-80ed-22ac43cfbd7f",
   "metadata": {},
   "outputs": [],
   "source": [
    "file_path2 = os.path.join(path, '2_Data', 'QVI_transaction_Data.xlsx')\n",
    "\n",
    "# Read the Excel file\n",
    "df_transaction = pd.read_excel(file_path2)"
   ]
  },
  {
   "cell_type": "markdown",
   "id": "bcd01533-63a9-45f9-ba13-0be6322d5a82",
   "metadata": {},
   "source": [
    "## Purchase Dataset Checks"
   ]
  },
  {
   "cell_type": "code",
   "execution_count": 21,
   "id": "cbaa997b-0dca-4b88-9d34-6644c220e511",
   "metadata": {},
   "outputs": [
    {
     "data": {
      "text/html": [
       "<div>\n",
       "<style scoped>\n",
       "    .dataframe tbody tr th:only-of-type {\n",
       "        vertical-align: middle;\n",
       "    }\n",
       "\n",
       "    .dataframe tbody tr th {\n",
       "        vertical-align: top;\n",
       "    }\n",
       "\n",
       "    .dataframe thead th {\n",
       "        text-align: right;\n",
       "    }\n",
       "</style>\n",
       "<table border=\"1\" class=\"dataframe\">\n",
       "  <thead>\n",
       "    <tr style=\"text-align: right;\">\n",
       "      <th></th>\n",
       "      <th>LYLTY_CARD_NBR</th>\n",
       "      <th>LIFESTAGE</th>\n",
       "      <th>PREMIUM_CUSTOMER</th>\n",
       "    </tr>\n",
       "  </thead>\n",
       "  <tbody>\n",
       "    <tr>\n",
       "      <th>0</th>\n",
       "      <td>1000</td>\n",
       "      <td>YOUNG SINGLES/COUPLES</td>\n",
       "      <td>Premium</td>\n",
       "    </tr>\n",
       "    <tr>\n",
       "      <th>1</th>\n",
       "      <td>1002</td>\n",
       "      <td>YOUNG SINGLES/COUPLES</td>\n",
       "      <td>Mainstream</td>\n",
       "    </tr>\n",
       "    <tr>\n",
       "      <th>2</th>\n",
       "      <td>1003</td>\n",
       "      <td>YOUNG FAMILIES</td>\n",
       "      <td>Budget</td>\n",
       "    </tr>\n",
       "    <tr>\n",
       "      <th>3</th>\n",
       "      <td>1004</td>\n",
       "      <td>OLDER SINGLES/COUPLES</td>\n",
       "      <td>Mainstream</td>\n",
       "    </tr>\n",
       "    <tr>\n",
       "      <th>4</th>\n",
       "      <td>1005</td>\n",
       "      <td>MIDAGE SINGLES/COUPLES</td>\n",
       "      <td>Mainstream</td>\n",
       "    </tr>\n",
       "  </tbody>\n",
       "</table>\n",
       "</div>"
      ],
      "text/plain": [
       "   LYLTY_CARD_NBR               LIFESTAGE PREMIUM_CUSTOMER\n",
       "0            1000   YOUNG SINGLES/COUPLES          Premium\n",
       "1            1002   YOUNG SINGLES/COUPLES       Mainstream\n",
       "2            1003          YOUNG FAMILIES           Budget\n",
       "3            1004   OLDER SINGLES/COUPLES       Mainstream\n",
       "4            1005  MIDAGE SINGLES/COUPLES       Mainstream"
      ]
     },
     "execution_count": 21,
     "metadata": {},
     "output_type": "execute_result"
    }
   ],
   "source": [
    "df_purchase.head()"
   ]
  },
  {
   "cell_type": "code",
   "execution_count": 25,
   "id": "30a225f3-3e58-4e9e-b2af-4bd13c3f2f85",
   "metadata": {},
   "outputs": [
    {
     "data": {
      "text/plain": [
       "(72637, 3)"
      ]
     },
     "execution_count": 25,
     "metadata": {},
     "output_type": "execute_result"
    }
   ],
   "source": [
    "df_purchase.shape"
   ]
  },
  {
   "cell_type": "code",
   "execution_count": 29,
   "id": "400c9104-883d-47e8-9350-faa038497fee",
   "metadata": {},
   "outputs": [
    {
     "data": {
      "text/plain": [
       "LYLTY_CARD_NBR       int64\n",
       "LIFESTAGE           object\n",
       "PREMIUM_CUSTOMER    object\n",
       "dtype: object"
      ]
     },
     "execution_count": 29,
     "metadata": {},
     "output_type": "execute_result"
    }
   ],
   "source": [
    "df_purchase.dtypes"
   ]
  },
  {
   "cell_type": "code",
   "execution_count": 47,
   "id": "0528ff8f-3511-4b1f-88d4-5630eeb9ae34",
   "metadata": {},
   "outputs": [],
   "source": [
    "#Convert the datatype to object for loyalty card number column\n",
    "df_purchase['LYLTY_CARD_NBR'] = df_purchase['LYLTY_CARD_NBR'].astype(str)"
   ]
  },
  {
   "cell_type": "code",
   "execution_count": 49,
   "id": "d285b4a8-b7eb-483c-8d4e-46d2d53f87b1",
   "metadata": {
    "collapsed": true,
    "jupyter": {
     "outputs_hidden": true
    }
   },
   "outputs": [
    {
     "data": {
      "text/plain": [
       "LYLTY_CARD_NBR      object\n",
       "LIFESTAGE           object\n",
       "PREMIUM_CUSTOMER    object\n",
       "dtype: object"
      ]
     },
     "execution_count": 49,
     "metadata": {},
     "output_type": "execute_result"
    }
   ],
   "source": [
    "df_purchase.dtypes"
   ]
  },
  {
   "cell_type": "code",
   "execution_count": 53,
   "id": "741631bf-82c5-4e28-85f4-6aa03d47dcc5",
   "metadata": {
    "collapsed": true,
    "jupyter": {
     "outputs_hidden": true
    }
   },
   "outputs": [
    {
     "name": "stdout",
     "output_type": "stream",
     "text": [
      "['YOUNG SINGLES/COUPLES' 'YOUNG FAMILIES' 'OLDER SINGLES/COUPLES'\n",
      " 'MIDAGE SINGLES/COUPLES' 'NEW FAMILIES' 'OLDER FAMILIES' 'RETIREES']\n",
      "['Premium' 'Mainstream' 'Budget']\n"
     ]
    }
   ],
   "source": [
    "#Check Unique Values for LIFESTAGE and PREMIUM_CUSTOMER\n",
    "print(df_purchase['LIFESTAGE'].unique())\n",
    "print(df_purchase['PREMIUM_CUSTOMER'].unique())"
   ]
  },
  {
   "cell_type": "code",
   "execution_count": 57,
   "id": "4969728d-d93d-4702-b32b-a6f5a0ea2350",
   "metadata": {},
   "outputs": [
    {
     "name": "stdout",
     "output_type": "stream",
     "text": [
      "LIFESTAGE           0\n",
      "PREMIUM_CUSTOMER    0\n",
      "dtype: int64\n"
     ]
    }
   ],
   "source": [
    "#Count missing values\n",
    "print(df_purchase[['LIFESTAGE', 'PREMIUM_CUSTOMER']].isnull().sum())  "
   ]
  },
  {
   "cell_type": "code",
   "execution_count": 67,
   "id": "9f3d7a11-0210-4d04-b850-a15748ab1b35",
   "metadata": {},
   "outputs": [
    {
     "data": {
      "text/plain": [
       "0"
      ]
     },
     "execution_count": 67,
     "metadata": {},
     "output_type": "execute_result"
    }
   ],
   "source": [
    "#Count duplicates\n",
    "df_purchase.duplicated().sum()"
   ]
  },
  {
   "cell_type": "code",
   "execution_count": 61,
   "id": "00680a96-5178-41d4-b235-ebcd1ba57562",
   "metadata": {},
   "outputs": [
    {
     "name": "stdout",
     "output_type": "stream",
     "text": [
      "LIFESTAGE             \n",
      "RETIREES                  14805\n",
      "OLDER SINGLES/COUPLES     14609\n",
      "YOUNG SINGLES/COUPLES     14441\n",
      "OLDER FAMILIES             9780\n",
      "YOUNG FAMILIES             9178\n",
      "MIDAGE SINGLES/COUPLES     7275\n",
      "NEW FAMILIES               2549\n",
      "Name: count, dtype: int64\n"
     ]
    }
   ],
   "source": [
    "print(df_purchase[['LIFESTAGE']].value_counts())"
   ]
  },
  {
   "cell_type": "code",
   "execution_count": 65,
   "id": "2a4d0ae4-4471-405a-9485-8adb81db1640",
   "metadata": {},
   "outputs": [
    {
     "name": "stdout",
     "output_type": "stream",
     "text": [
      "PREMIUM_CUSTOMER\n",
      "Mainstream          29245\n",
      "Budget              24470\n",
      "Premium             18922\n",
      "Name: count, dtype: int64\n"
     ]
    }
   ],
   "source": [
    "print(df_purchase[['PREMIUM_CUSTOMER']].value_counts())"
   ]
  },
  {
   "cell_type": "markdown",
   "id": "4a5376ea-6795-47f4-813f-22d7690d9a81",
   "metadata": {},
   "source": [
    "## Transaction Dataset checks"
   ]
  },
  {
   "cell_type": "code",
   "execution_count": 35,
   "id": "b01fd993-0421-488f-856c-a537e5155117",
   "metadata": {},
   "outputs": [
    {
     "data": {
      "text/html": [
       "<div>\n",
       "<style scoped>\n",
       "    .dataframe tbody tr th:only-of-type {\n",
       "        vertical-align: middle;\n",
       "    }\n",
       "\n",
       "    .dataframe tbody tr th {\n",
       "        vertical-align: top;\n",
       "    }\n",
       "\n",
       "    .dataframe thead th {\n",
       "        text-align: right;\n",
       "    }\n",
       "</style>\n",
       "<table border=\"1\" class=\"dataframe\">\n",
       "  <thead>\n",
       "    <tr style=\"text-align: right;\">\n",
       "      <th></th>\n",
       "      <th>DATE</th>\n",
       "      <th>STORE_NBR</th>\n",
       "      <th>LYLTY_CARD_NBR</th>\n",
       "      <th>TXN_ID</th>\n",
       "      <th>PROD_NBR</th>\n",
       "      <th>PROD_NAME</th>\n",
       "      <th>PROD_QTY</th>\n",
       "      <th>TOT_SALES</th>\n",
       "    </tr>\n",
       "  </thead>\n",
       "  <tbody>\n",
       "    <tr>\n",
       "      <th>0</th>\n",
       "      <td>43390</td>\n",
       "      <td>1</td>\n",
       "      <td>1000</td>\n",
       "      <td>1</td>\n",
       "      <td>5</td>\n",
       "      <td>Natural Chip        Compny SeaSalt175g</td>\n",
       "      <td>2</td>\n",
       "      <td>6.0</td>\n",
       "    </tr>\n",
       "    <tr>\n",
       "      <th>1</th>\n",
       "      <td>43599</td>\n",
       "      <td>1</td>\n",
       "      <td>1307</td>\n",
       "      <td>348</td>\n",
       "      <td>66</td>\n",
       "      <td>CCs Nacho Cheese    175g</td>\n",
       "      <td>3</td>\n",
       "      <td>6.3</td>\n",
       "    </tr>\n",
       "    <tr>\n",
       "      <th>2</th>\n",
       "      <td>43605</td>\n",
       "      <td>1</td>\n",
       "      <td>1343</td>\n",
       "      <td>383</td>\n",
       "      <td>61</td>\n",
       "      <td>Smiths Crinkle Cut  Chips Chicken 170g</td>\n",
       "      <td>2</td>\n",
       "      <td>2.9</td>\n",
       "    </tr>\n",
       "    <tr>\n",
       "      <th>3</th>\n",
       "      <td>43329</td>\n",
       "      <td>2</td>\n",
       "      <td>2373</td>\n",
       "      <td>974</td>\n",
       "      <td>69</td>\n",
       "      <td>Smiths Chip Thinly  S/Cream&amp;Onion 175g</td>\n",
       "      <td>5</td>\n",
       "      <td>15.0</td>\n",
       "    </tr>\n",
       "    <tr>\n",
       "      <th>4</th>\n",
       "      <td>43330</td>\n",
       "      <td>2</td>\n",
       "      <td>2426</td>\n",
       "      <td>1038</td>\n",
       "      <td>108</td>\n",
       "      <td>Kettle Tortilla ChpsHny&amp;Jlpno Chili 150g</td>\n",
       "      <td>3</td>\n",
       "      <td>13.8</td>\n",
       "    </tr>\n",
       "  </tbody>\n",
       "</table>\n",
       "</div>"
      ],
      "text/plain": [
       "    DATE  STORE_NBR  LYLTY_CARD_NBR  TXN_ID  PROD_NBR  \\\n",
       "0  43390          1            1000       1         5   \n",
       "1  43599          1            1307     348        66   \n",
       "2  43605          1            1343     383        61   \n",
       "3  43329          2            2373     974        69   \n",
       "4  43330          2            2426    1038       108   \n",
       "\n",
       "                                  PROD_NAME  PROD_QTY  TOT_SALES  \n",
       "0    Natural Chip        Compny SeaSalt175g         2        6.0  \n",
       "1                  CCs Nacho Cheese    175g         3        6.3  \n",
       "2    Smiths Crinkle Cut  Chips Chicken 170g         2        2.9  \n",
       "3    Smiths Chip Thinly  S/Cream&Onion 175g         5       15.0  \n",
       "4  Kettle Tortilla ChpsHny&Jlpno Chili 150g         3       13.8  "
      ]
     },
     "execution_count": 35,
     "metadata": {},
     "output_type": "execute_result"
    }
   ],
   "source": [
    "df_transaction.head()"
   ]
  },
  {
   "cell_type": "code",
   "execution_count": 37,
   "id": "01dfc090-dab6-47cc-917f-f61de5b1dc1e",
   "metadata": {},
   "outputs": [
    {
     "data": {
      "text/plain": [
       "(264836, 8)"
      ]
     },
     "execution_count": 37,
     "metadata": {},
     "output_type": "execute_result"
    }
   ],
   "source": [
    "df_transaction.shape"
   ]
  },
  {
   "cell_type": "code",
   "execution_count": 39,
   "id": "9fb360f7-94a5-4b60-8ef3-d47f5b3d7f8d",
   "metadata": {},
   "outputs": [
    {
     "data": {
      "text/plain": [
       "DATE                int64\n",
       "STORE_NBR           int64\n",
       "LYLTY_CARD_NBR      int64\n",
       "TXN_ID              int64\n",
       "PROD_NBR            int64\n",
       "PROD_NAME          object\n",
       "PROD_QTY            int64\n",
       "TOT_SALES         float64\n",
       "dtype: object"
      ]
     },
     "execution_count": 39,
     "metadata": {},
     "output_type": "execute_result"
    }
   ],
   "source": [
    "df_transaction.dtypes"
   ]
  },
  {
   "cell_type": "code",
   "execution_count": 73,
   "id": "b24bfa0f-cf46-49c5-a95d-817214255333",
   "metadata": {},
   "outputs": [
    {
     "name": "stdout",
     "output_type": "stream",
     "text": [
      "        DATE\n",
      "0 2018-10-17\n",
      "1 2019-05-14\n",
      "2 2019-05-20\n",
      "3 2018-08-17\n",
      "4 2018-08-18\n"
     ]
    }
   ],
   "source": [
    "# Convert Excel serial number to datetime\n",
    "df_transaction['DATE'] = pd.to_datetime(df_transaction['DATE'], origin='1899-12-30', unit='D')\n",
    "\n",
    "# Check if it worked\n",
    "print(df_transaction[['DATE']].head())"
   ]
  },
  {
   "cell_type": "code",
   "execution_count": 75,
   "id": "d549b628-8675-4b39-bc0d-234d8966def0",
   "metadata": {},
   "outputs": [],
   "source": [
    "#Convert Loyalty Card Number to string\n",
    "df_transaction['LYLTY_CARD_NBR'] = df_transaction['LYLTY_CARD_NBR'].astype(str)"
   ]
  },
  {
   "cell_type": "code",
   "execution_count": 77,
   "id": "452d322a-387d-4803-a1ef-2e8b4908831a",
   "metadata": {},
   "outputs": [
    {
     "data": {
      "text/plain": [
       "DATE              datetime64[ns]\n",
       "STORE_NBR                  int64\n",
       "LYLTY_CARD_NBR            object\n",
       "TXN_ID                     int64\n",
       "PROD_NBR                   int64\n",
       "PROD_NAME                 object\n",
       "PROD_QTY                   int64\n",
       "TOT_SALES                float64\n",
       "dtype: object"
      ]
     },
     "execution_count": 77,
     "metadata": {},
     "output_type": "execute_result"
    }
   ],
   "source": [
    "df_transaction.dtypes"
   ]
  },
  {
   "cell_type": "code",
   "execution_count": 79,
   "id": "468718df-82b0-4709-a49c-5a65873fbf16",
   "metadata": {},
   "outputs": [
    {
     "name": "stdout",
     "output_type": "stream",
     "text": [
      "DATE              0\n",
      "STORE_NBR         0\n",
      "LYLTY_CARD_NBR    0\n",
      "TXN_ID            0\n",
      "PROD_NBR          0\n",
      "PROD_NAME         0\n",
      "PROD_QTY          0\n",
      "TOT_SALES         0\n",
      "dtype: int64\n"
     ]
    }
   ],
   "source": [
    "#Check for missing values\n",
    "print(df_transaction.isnull().sum())"
   ]
  },
  {
   "cell_type": "code",
   "execution_count": 81,
   "id": "9705aaf7-e4c6-489b-90ca-42dfb443d671",
   "metadata": {},
   "outputs": [
    {
     "data": {
      "text/plain": [
       "1"
      ]
     },
     "execution_count": 81,
     "metadata": {},
     "output_type": "execute_result"
    }
   ],
   "source": [
    "#Check for duplicates\n",
    "df_transaction.duplicated().sum()"
   ]
  },
  {
   "cell_type": "code",
   "execution_count": 87,
   "id": "26349f51-01cf-471e-a9d3-9c6f0df4b011",
   "metadata": {},
   "outputs": [
    {
     "data": {
      "text/plain": [
       "0"
      ]
     },
     "execution_count": 87,
     "metadata": {},
     "output_type": "execute_result"
    }
   ],
   "source": [
    "#Drop the duplicates\n",
    "df_transaction = df_transaction.drop_duplicates()\n",
    "df_transaction.duplicated().sum()"
   ]
  },
  {
   "cell_type": "code",
   "execution_count": 91,
   "id": "1482fbbb-0c63-4067-823f-38f87b068aed",
   "metadata": {},
   "outputs": [
    {
     "name": "stdout",
     "output_type": "stream",
     "text": [
      "count    264835.000000\n",
      "mean          1.907308\n",
      "std           0.643655\n",
      "min           1.000000\n",
      "25%           2.000000\n",
      "50%           2.000000\n",
      "75%           2.000000\n",
      "max         200.000000\n",
      "Name: PROD_QTY, dtype: float64\n"
     ]
    }
   ],
   "source": [
    "print(df_transaction['PROD_QTY'].describe())"
   ]
  },
  {
   "cell_type": "code",
   "execution_count": 103,
   "id": "b620c413-3270-4441-8ae3-dd0dcf8cb357",
   "metadata": {},
   "outputs": [
    {
     "data": {
      "image/png": "[encoded data removed]",
      "text/plain": [
       "<Figure size 640x480 with 1 Axes>"
      ]
     },
     "metadata": {},
     "output_type": "display_data"
    }
   ],
   "source": [
    "# Boxplot to detect product quantity\n",
    "sns.boxplot(x=df_transaction['PROD_QTY'])\n",
    "plt.title(\"Distribution of Product Quantity per Transaction\")\n",
    "\n",
    "# Show the plot\n",
    "plt.show()"
   ]
  },
  {
   "cell_type": "code",
   "execution_count": 147,
   "id": "f2b41b33-97d6-431c-8a74-b434dfc4e7d4",
   "metadata": {},
   "outputs": [
    {
     "name": "stdout",
     "output_type": "stream",
     "text": [
      "            DATE  STORE_NBR LYLTY_CARD_NBR  TXN_ID  PROD_NBR  \\\n",
      "69762 2018-08-19        226         226000  226201         4   \n",
      "69763 2019-05-20        226         226000  226210         4   \n",
      "\n",
      "                              PROD_NAME  PROD_QTY  TOT_SALES BULK_PURCHASE  \n",
      "69762  Dorito Corn Chp     Supreme 380g       200      650.0           YES  \n",
      "69763  Dorito Corn Chp     Supreme 380g       200      650.0           YES  \n"
     ]
    }
   ],
   "source": [
    "#Create a bulk_purchase dataframe with purchase quantity above 10\n",
    "bulk_purchase = df_transaction[df_transaction['PROD_QTY'] > 10]  # Checking for bulk purchases\n",
    "print(bulk_purchase)"
   ]
  },
  {
   "cell_type": "code",
   "execution_count": 141,
   "id": "04f08b9a-a31b-408e-9154-41d0f0add0d4",
   "metadata": {},
   "outputs": [
    {
     "name": "stdout",
     "output_type": "stream",
     "text": [
      "Empty DataFrame\n",
      "Columns: [DATE, STORE_NBR, LYLTY_CARD_NBR, TXN_ID, PROD_NBR, PROD_NAME, PROD_QTY, TOT_SALES, BULK_PURCHASE]\n",
      "Index: []\n"
     ]
    }
   ],
   "source": [
    "# Remove bulk purchases from main transactions\n",
    "df_transaction_cleaned = df_transaction[df_transaction['PROD_QTY'] <= 50].copy()\n",
    "\n",
    "# Check if bulk purchases are gone\n",
    "print(df_transaction_cleaned[df_transaction_cleaned['PROD_QTY'] > 50])  # Should return empty"
   ]
  },
  {
   "cell_type": "code",
   "execution_count": 145,
   "id": "d7d8db48-69e0-48cc-aa60-930046669bf7",
   "metadata": {
    "collapsed": true,
    "jupyter": {
     "outputs_hidden": true
    }
   },
   "outputs": [
    {
     "name": "stdout",
     "output_type": "stream",
     "text": [
      "count    264833.000000\n",
      "mean          7.299351\n",
      "std           2.527244\n",
      "min           1.500000\n",
      "25%           5.400000\n",
      "50%           7.400000\n",
      "75%           9.200000\n",
      "max          29.500000\n",
      "Name: TOT_SALES, dtype: float64\n"
     ]
    }
   ],
   "source": [
    "print(df_transaction_cleaned['TOT_SALES'].describe())"
   ]
  },
  {
   "cell_type": "code",
   "execution_count": 159,
   "id": "e661eae4-9077-4c15-9739-1342a899f889",
   "metadata": {},
   "outputs": [
    {
     "data": {
      "image/png": "[encoded data removed]",
      "text/plain": [
       "<Figure size 1200x500 with 2 Axes>"
      ]
     },
     "metadata": {},
     "output_type": "display_data"
    }
   ],
   "source": [
    "# Create histograms for TOT_SALES and PROD_QTY\n",
    "fig, axes = plt.subplots(1, 2, figsize=(12, 5))\n",
    "\n",
    "# Histogram for TOT_SALES\n",
    "axes[0].hist(df_transaction_cleaned['TOT_SALES'], bins=30, edgecolor='black', alpha=0.7)\n",
    "axes[0].set_title('Distribution of Total Sales (TOT_SALES)')\n",
    "axes[0].set_xlabel('Total Sales ($)')\n",
    "axes[0].set_ylabel('Frequency')\n",
    "\n",
    "# Histogram for PROD_QTY\n",
    "axes[1].hist(df_transaction_cleaned['PROD_QTY'], bins=30, edgecolor='black', alpha=0.7)\n",
    "axes[1].set_title('Distribution of Product Quantity (PROD_QTY)')\n",
    "axes[1].set_xlabel('Product Quantity per Transaction')\n",
    "axes[1].set_ylabel('Frequency')\n",
    "\n",
    "# Show the plots\n",
    "plt.tight_layout()\n",
    "plt.show()"
   ]
  },
  {
   "cell_type": "code",
   "execution_count": 155,
   "id": "2150456f-a1a6-485f-8570-140c606caab8",
   "metadata": {},
   "outputs": [
    {
     "data": {
      "text/plain": [
       "114"
      ]
     },
     "execution_count": 155,
     "metadata": {},
     "output_type": "execute_result"
    }
   ],
   "source": [
    "df_transaction_cleaned['PROD_NAME'].nunique()"
   ]
  },
  {
   "cell_type": "code",
   "execution_count": 153,
   "id": "2d393c7d-cb4c-4206-bdda-3291803b2e71",
   "metadata": {},
   "outputs": [
    {
     "name": "stdout",
     "output_type": "stream",
     "text": [
      "['Natural Chip        Compny SeaSalt175g' 'CCs Nacho Cheese    175g'\n",
      " 'Smiths Crinkle Cut  Chips Chicken 170g'\n",
      " 'Smiths Chip Thinly  S/Cream&Onion 175g'\n",
      " 'Kettle Tortilla ChpsHny&Jlpno Chili 150g'\n",
      " 'Old El Paso Salsa   Dip Tomato Mild 300g'\n",
      " 'Smiths Crinkle Chips Salt & Vinegar 330g'\n",
      " 'Grain Waves         Sweet Chilli 210g'\n",
      " 'Doritos Corn Chip Mexican Jalapeno 150g'\n",
      " 'Grain Waves Sour    Cream&Chives 210G'\n",
      " 'Kettle Sensations   Siracha Lime 150g' 'Twisties Cheese     270g'\n",
      " 'WW Crinkle Cut      Chicken 175g' 'Thins Chips Light&  Tangy 175g'\n",
      " 'CCs Original 175g' 'Burger Rings 220g'\n",
      " 'NCC Sour Cream &    Garden Chives 175g'\n",
      " 'Doritos Corn Chip Southern Chicken 150g' 'Cheezels Cheese Box 125g'\n",
      " 'Smiths Crinkle      Original 330g'\n",
      " 'Infzns Crn Crnchers Tangy Gcamole 110g'\n",
      " 'Kettle Sea Salt     And Vinegar 175g'\n",
      " 'Smiths Chip Thinly  Cut Original 175g' 'Kettle Original 175g'\n",
      " 'RRD Thai  Chilli&Lime 150g' 'Pringles Sthrn FriedChicken 134g'\n",
      " 'Pringles Sweet&Spcy BBQ 134g' 'RRD SR    Salsa & Mzzrlla 150g'\n",
      " 'Thins Chips         Originl saltd 175g' 'RRD Sp    Salt & Truffle 150G'\n",
      " 'Smiths Thinly       Swt Chli&S/Cream175G' 'Kettle Chilli 175g'\n",
      " 'Doritos Mexicana    170g' 'Smiths Crinkle Cut  French OnionDip 150g'\n",
      " 'Natural ChipCo      Hony Soy Chckn175g'\n",
      " 'Dorito Corn Chp     Supreme 380g' 'Twisties Chicken270g'\n",
      " 'Smiths Thinly Cut   Roast Chicken 175g'\n",
      " 'Smiths Crinkle Cut  Tomato Salsa 150g'\n",
      " 'Kettle Mozzarella   Basil & Pesto 175g'\n",
      " 'Infzns Thai SweetChili PotatoMix 110g'\n",
      " 'Kettle Sensations   Camembert & Fig 150g'\n",
      " 'Smith Crinkle Cut   Mac N Cheese 150g'\n",
      " 'Kettle Honey Soy    Chicken 175g' 'Thins Chips Seasonedchicken 175g'\n",
      " 'Smiths Crinkle Cut  Salt & Vinegar 170g'\n",
      " 'Infzns BBQ Rib   Prawn Crackers 110g'\n",
      " 'GrnWves Plus Btroot & Chilli Jam 180g'\n",
      " 'Tyrrells Crisps     Lightly Salted 165g'\n",
      " 'Kettle Sweet Chilli And Sour Cream 175g'\n",
      " 'Doritos Salsa       Medium 300g' 'Kettle 135g Swt Pot Sea Salt'\n",
      " 'Pringles SourCream  Onion 134g' 'Dorito Corn Chp  Original 170g'\n",
      " 'Twisties Cheese     Burger 250g'\n",
      " 'Old El Paso Salsa   Dip Chnky Tom Ht300g'\n",
      " 'Cobs Popd Swt/Chlli &Sr/Cream Chips 110g' 'WW Mild     Salsa 300g'\n",
      " 'Natural Chip Co     Tmato Hrb&Spce 175g'\n",
      " 'Smiths Crinkle Cut  Chips Original 170g'\n",
      " 'Cobs Popd Sea Salt  Chips 110g'\n",
      " 'Smiths Crinkle Cut  Chips Chs&Onion170g'\n",
      " 'French Fries Potato Chips 175g'\n",
      " 'Old El Paso Salsa   Dip Tomato Med 300g'\n",
      " 'Dorito Corn Chp  Cheese Supreme 170g' 'Pringles Original   Crisps 134g'\n",
      " 'RRD Chilli&         Coconut 150g' 'WW Original Corn    Chips 200g'\n",
      " 'Thins Potato Chips  Hot & Spicy 175g'\n",
      " 'Cobs Popd Sour Crm  &Chives Chips 110g'\n",
      " 'Smiths Crnkle Chip  Orgnl Big Bag 380g'\n",
      " 'Dorito Corn Chp  Nacho Cheese 170g' 'Kettle Sensations   BBQ&Maple 150g'\n",
      " 'WW D/Style Chip     Sea Salt 200g' 'Pringles Chicken    Salt Crips 134g'\n",
      " 'WW Original Stacked Chips 160g' 'Smiths Chip Thinly  CutSalt/Vinegr175g'\n",
      " 'Cheezels Cheese 330g' 'Tostitos Lightly    Salted 175g'\n",
      " 'Thins Chips Salt &  Vinegar 175g'\n",
      " 'Smiths Crinkle Cut  Chips Barbecue 170g' 'Cheetos Puffs 165g'\n",
      " 'RRD Sweet Chilli &  Sour Cream 165g' 'WW Crinkle Cut      Original 175g'\n",
      " 'Tostitos Splash Of  Lime 175g' 'WW Medium   Salsa 300g'\n",
      " 'Kettle Tortilla ChpsBtroot&Ricotta 150g' 'CCs Tasty Cheese    175g'\n",
      " 'WW Cheese   Rings 190g' 'Tostitos Smoked     Chipotle 175g'\n",
      " 'Pringles Barbeque   134g' 'WW Supreme Cheese   Corn Chips 200g'\n",
      " 'Pringles Mystery    Flavour 134g'\n",
      " 'Tyrrells Crisps     Ched & Chives 165g'\n",
      " 'Snbts Whlgrn Crisps Cheddr&Mstrd 90g' 'Cheetos Chs & Bacon Balls 190g'\n",
      " 'Pringles Slt Vingar 134g' 'Infzns SourCream&Herbs Veg Strws 110g'\n",
      " 'Kettle Tortilla ChpsFeta&Garlic 150g'\n",
      " 'Infzns Mango     Chutny Papadums 70g'\n",
      " 'RRD Steak &         Chimuchurri 150g' 'RRD Honey Soy       Chicken 165g'\n",
      " 'Sunbites Whlegrn    Crisps Frch/Onin 90g' 'RRD Salt & Vinegar  165g'\n",
      " 'Doritos Cheese      Supreme 330g' 'Smiths Crinkle Cut  Snag&Sauce 150g'\n",
      " 'WW Sour Cream &OnionStacked Chips 160g' 'RRD Lime & Pepper   165g'\n",
      " 'Natural ChipCo Sea  Salt & Vinegr 175g' 'RRD Chikn&Garlic Aioli 150g'\n",
      " 'RRD SR Slow Rst     Pork Belly 150g' 'RRD Pc Sea Salt     165g'\n",
      " 'Smith Crinkle Cut   Bolognese 150g' 'Doritos Salsa Mild  300g']\n"
     ]
    }
   ],
   "source": [
    "print(df_transaction_cleaned['PROD_NAME'].unique())"
   ]
  },
  {
   "cell_type": "code",
   "execution_count": 157,
   "id": "3dc045d0-ea80-4e98-8ae0-c0374a9afaeb",
   "metadata": {},
   "outputs": [
    {
     "data": {
      "text/plain": [
       "PROD_NAME\n",
       "Kettle Mozzarella   Basil & Pesto 175g      3304\n",
       "Kettle Tortilla ChpsHny&Jlpno Chili 150g    3296\n",
       "Cobs Popd Swt/Chlli &Sr/Cream Chips 110g    3269\n",
       "Tyrrells Crisps     Ched & Chives 165g      3268\n",
       "Cobs Popd Sea Salt  Chips 110g              3265\n",
       "Kettle 135g Swt Pot Sea Salt                3257\n",
       "Tostitos Splash Of  Lime 175g               3252\n",
       "Infzns Thai SweetChili PotatoMix 110g       3242\n",
       "Smiths Crnkle Chip  Orgnl Big Bag 380g      3233\n",
       "Thins Potato Chips  Hot & Spicy 175g        3229\n",
       "Name: count, dtype: int64"
      ]
     },
     "execution_count": 157,
     "metadata": {},
     "output_type": "execute_result"
    }
   ],
   "source": [
    "df_transaction_cleaned['PROD_NAME'].value_counts().head(10)"
   ]
  },
  {
   "cell_type": "markdown",
   "id": "81aa577f-cee8-470f-a4b6-ee6f8d95ad72",
   "metadata": {},
   "source": [
    "## Merging two dataframes"
   ]
  },
  {
   "cell_type": "code",
   "execution_count": 162,
   "id": "203f5cff-6667-4f27-a118-cd63a67844db",
   "metadata": {},
   "outputs": [],
   "source": [
    "df_merged = df_purchase.merge(df_transaction, on='LYLTY_CARD_NBR', how='inner')"
   ]
  },
  {
   "cell_type": "code",
   "execution_count": 164,
   "id": "ef04d53a-b4f7-440e-936a-54f5e9d053cc",
   "metadata": {},
   "outputs": [],
   "source": [
    "df_merged['BULK_PURCHASE'] = df_merged['PROD_QTY'].apply(lambda x: 'YES' if x > 10 else 'NO')"
   ]
  },
  {
   "cell_type": "code",
   "execution_count": 166,
   "id": "7bfa536b-fda0-4ef3-ada5-eed41d832083",
   "metadata": {},
   "outputs": [],
   "source": [
    "df_bulk = df_merged[df_merged['BULK_PURCHASE'] == 'YES']\n",
    "df_normal = df_merged[df_merged['BULK_PURCHASE'] == 'NO']"
   ]
  },
  {
   "cell_type": "code",
   "execution_count": 168,
   "id": "14bacf01-7c68-40ad-aac7-4f6397343e7a",
   "metadata": {},
   "outputs": [
    {
     "data": {
      "text/html": [
       "<div>\n",
       "<style scoped>\n",
       "    .dataframe tbody tr th:only-of-type {\n",
       "        vertical-align: middle;\n",
       "    }\n",
       "\n",
       "    .dataframe tbody tr th {\n",
       "        vertical-align: top;\n",
       "    }\n",
       "\n",
       "    .dataframe thead th {\n",
       "        text-align: right;\n",
       "    }\n",
       "</style>\n",
       "<table border=\"1\" class=\"dataframe\">\n",
       "  <thead>\n",
       "    <tr style=\"text-align: right;\">\n",
       "      <th></th>\n",
       "      <th>LYLTY_CARD_NBR</th>\n",
       "      <th>LIFESTAGE</th>\n",
       "      <th>PREMIUM_CUSTOMER</th>\n",
       "      <th>DATE</th>\n",
       "      <th>STORE_NBR</th>\n",
       "      <th>TXN_ID</th>\n",
       "      <th>PROD_NBR</th>\n",
       "      <th>PROD_NAME</th>\n",
       "      <th>PROD_QTY</th>\n",
       "      <th>TOT_SALES</th>\n",
       "      <th>BULK_PURCHASE</th>\n",
       "    </tr>\n",
       "  </thead>\n",
       "  <tbody>\n",
       "    <tr>\n",
       "      <th>0</th>\n",
       "      <td>1000</td>\n",
       "      <td>YOUNG SINGLES/COUPLES</td>\n",
       "      <td>Premium</td>\n",
       "      <td>2018-10-17</td>\n",
       "      <td>1</td>\n",
       "      <td>1</td>\n",
       "      <td>5</td>\n",
       "      <td>Natural Chip        Compny SeaSalt175g</td>\n",
       "      <td>2</td>\n",
       "      <td>6.0</td>\n",
       "      <td>NO</td>\n",
       "    </tr>\n",
       "    <tr>\n",
       "      <th>1</th>\n",
       "      <td>1002</td>\n",
       "      <td>YOUNG SINGLES/COUPLES</td>\n",
       "      <td>Mainstream</td>\n",
       "      <td>2018-09-16</td>\n",
       "      <td>1</td>\n",
       "      <td>2</td>\n",
       "      <td>58</td>\n",
       "      <td>Red Rock Deli Chikn&amp;Garlic Aioli 150g</td>\n",
       "      <td>1</td>\n",
       "      <td>2.7</td>\n",
       "      <td>NO</td>\n",
       "    </tr>\n",
       "    <tr>\n",
       "      <th>2</th>\n",
       "      <td>1003</td>\n",
       "      <td>YOUNG FAMILIES</td>\n",
       "      <td>Budget</td>\n",
       "      <td>2019-03-07</td>\n",
       "      <td>1</td>\n",
       "      <td>3</td>\n",
       "      <td>52</td>\n",
       "      <td>Grain Waves Sour    Cream&amp;Chives 210G</td>\n",
       "      <td>1</td>\n",
       "      <td>3.6</td>\n",
       "      <td>NO</td>\n",
       "    </tr>\n",
       "    <tr>\n",
       "      <th>3</th>\n",
       "      <td>1003</td>\n",
       "      <td>YOUNG FAMILIES</td>\n",
       "      <td>Budget</td>\n",
       "      <td>2019-03-08</td>\n",
       "      <td>1</td>\n",
       "      <td>4</td>\n",
       "      <td>106</td>\n",
       "      <td>Natural ChipCo      Hony Soy Chckn175g</td>\n",
       "      <td>1</td>\n",
       "      <td>3.0</td>\n",
       "      <td>NO</td>\n",
       "    </tr>\n",
       "    <tr>\n",
       "      <th>4</th>\n",
       "      <td>1004</td>\n",
       "      <td>OLDER SINGLES/COUPLES</td>\n",
       "      <td>Mainstream</td>\n",
       "      <td>2018-11-02</td>\n",
       "      <td>1</td>\n",
       "      <td>5</td>\n",
       "      <td>96</td>\n",
       "      <td>WW Original Stacked Chips 160g</td>\n",
       "      <td>1</td>\n",
       "      <td>1.9</td>\n",
       "      <td>NO</td>\n",
       "    </tr>\n",
       "  </tbody>\n",
       "</table>\n",
       "</div>"
      ],
      "text/plain": [
       "  LYLTY_CARD_NBR              LIFESTAGE PREMIUM_CUSTOMER       DATE  \\\n",
       "0           1000  YOUNG SINGLES/COUPLES          Premium 2018-10-17   \n",
       "1           1002  YOUNG SINGLES/COUPLES       Mainstream 2018-09-16   \n",
       "2           1003         YOUNG FAMILIES           Budget 2019-03-07   \n",
       "3           1003         YOUNG FAMILIES           Budget 2019-03-08   \n",
       "4           1004  OLDER SINGLES/COUPLES       Mainstream 2018-11-02   \n",
       "\n",
       "   STORE_NBR  TXN_ID  PROD_NBR                               PROD_NAME  \\\n",
       "0          1       1         5  Natural Chip        Compny SeaSalt175g   \n",
       "1          1       2        58   Red Rock Deli Chikn&Garlic Aioli 150g   \n",
       "2          1       3        52   Grain Waves Sour    Cream&Chives 210G   \n",
       "3          1       4       106  Natural ChipCo      Hony Soy Chckn175g   \n",
       "4          1       5        96          WW Original Stacked Chips 160g   \n",
       "\n",
       "   PROD_QTY  TOT_SALES BULK_PURCHASE  \n",
       "0         2        6.0            NO  \n",
       "1         1        2.7            NO  \n",
       "2         1        3.6            NO  \n",
       "3         1        3.0            NO  \n",
       "4         1        1.9            NO  "
      ]
     },
     "execution_count": 168,
     "metadata": {},
     "output_type": "execute_result"
    }
   ],
   "source": [
    "df_normal.head()"
   ]
  },
  {
   "cell_type": "code",
   "execution_count": 170,
   "id": "8f9080cb-989b-4d44-a416-c79582b54291",
   "metadata": {},
   "outputs": [
    {
     "data": {
      "text/html": [
       "<div>\n",
       "<style scoped>\n",
       "    .dataframe tbody tr th:only-of-type {\n",
       "        vertical-align: middle;\n",
       "    }\n",
       "\n",
       "    .dataframe tbody tr th {\n",
       "        vertical-align: top;\n",
       "    }\n",
       "\n",
       "    .dataframe thead th {\n",
       "        text-align: right;\n",
       "    }\n",
       "</style>\n",
       "<table border=\"1\" class=\"dataframe\">\n",
       "  <thead>\n",
       "    <tr style=\"text-align: right;\">\n",
       "      <th></th>\n",
       "      <th>LYLTY_CARD_NBR</th>\n",
       "      <th>LIFESTAGE</th>\n",
       "      <th>PREMIUM_CUSTOMER</th>\n",
       "      <th>DATE</th>\n",
       "      <th>STORE_NBR</th>\n",
       "      <th>TXN_ID</th>\n",
       "      <th>PROD_NBR</th>\n",
       "      <th>PROD_NAME</th>\n",
       "      <th>PROD_QTY</th>\n",
       "      <th>TOT_SALES</th>\n",
       "      <th>BULK_PURCHASE</th>\n",
       "    </tr>\n",
       "  </thead>\n",
       "  <tbody>\n",
       "    <tr>\n",
       "      <th>221624</th>\n",
       "      <td>226000</td>\n",
       "      <td>OLDER FAMILIES</td>\n",
       "      <td>Premium</td>\n",
       "      <td>2018-08-19</td>\n",
       "      <td>226</td>\n",
       "      <td>226201</td>\n",
       "      <td>4</td>\n",
       "      <td>Dorito Corn Chp     Supreme 380g</td>\n",
       "      <td>200</td>\n",
       "      <td>650.0</td>\n",
       "      <td>YES</td>\n",
       "    </tr>\n",
       "    <tr>\n",
       "      <th>221625</th>\n",
       "      <td>226000</td>\n",
       "      <td>OLDER FAMILIES</td>\n",
       "      <td>Premium</td>\n",
       "      <td>2019-05-20</td>\n",
       "      <td>226</td>\n",
       "      <td>226210</td>\n",
       "      <td>4</td>\n",
       "      <td>Dorito Corn Chp     Supreme 380g</td>\n",
       "      <td>200</td>\n",
       "      <td>650.0</td>\n",
       "      <td>YES</td>\n",
       "    </tr>\n",
       "  </tbody>\n",
       "</table>\n",
       "</div>"
      ],
      "text/plain": [
       "       LYLTY_CARD_NBR       LIFESTAGE PREMIUM_CUSTOMER       DATE  STORE_NBR  \\\n",
       "221624         226000  OLDER FAMILIES          Premium 2018-08-19        226   \n",
       "221625         226000  OLDER FAMILIES          Premium 2019-05-20        226   \n",
       "\n",
       "        TXN_ID  PROD_NBR                         PROD_NAME  PROD_QTY  \\\n",
       "221624  226201         4  Dorito Corn Chp     Supreme 380g       200   \n",
       "221625  226210         4  Dorito Corn Chp     Supreme 380g       200   \n",
       "\n",
       "        TOT_SALES BULK_PURCHASE  \n",
       "221624      650.0           YES  \n",
       "221625      650.0           YES  "
      ]
     },
     "execution_count": 170,
     "metadata": {},
     "output_type": "execute_result"
    }
   ],
   "source": [
    "df_bulk.head()"
   ]
  },
  {
   "cell_type": "code",
   "execution_count": 172,
   "id": "245f417b-e92f-42d8-bd93-4d1cd598eb92",
   "metadata": {},
   "outputs": [
    {
     "name": "stdout",
     "output_type": "stream",
     "text": [
      "LYLTY_CARD_NBR      0\n",
      "LIFESTAGE           0\n",
      "PREMIUM_CUSTOMER    0\n",
      "DATE                0\n",
      "STORE_NBR           0\n",
      "TXN_ID              0\n",
      "PROD_NBR            0\n",
      "PROD_NAME           0\n",
      "PROD_QTY            0\n",
      "TOT_SALES           0\n",
      "BULK_PURCHASE       0\n",
      "dtype: int64\n"
     ]
    }
   ],
   "source": [
    "#Count missing values\n",
    "print(df_normal.isnull().sum()) "
   ]
  },
  {
   "cell_type": "code",
   "execution_count": 174,
   "id": "9d2838f1-ad14-4fa3-bf3f-d8fdaaccbd25",
   "metadata": {},
   "outputs": [
    {
     "data": {
      "text/plain": [
       "0"
      ]
     },
     "execution_count": 174,
     "metadata": {},
     "output_type": "execute_result"
    }
   ],
   "source": [
    "df_normal.duplicated().sum()"
   ]
  },
  {
   "cell_type": "code",
   "execution_count": 176,
   "id": "0b40557e-ff24-47bc-916b-b6986a060a04",
   "metadata": {},
   "outputs": [
    {
     "data": {
      "text/plain": [
       "(264833, 11)"
      ]
     },
     "execution_count": 176,
     "metadata": {},
     "output_type": "execute_result"
    }
   ],
   "source": [
    "df_normal.shape"
   ]
  },
  {
   "cell_type": "code",
   "execution_count": 182,
   "id": "3eb322d3-7c6c-4f04-bb4e-e5c4a555db67",
   "metadata": {},
   "outputs": [
    {
     "data": {
      "text/html": [
       "<div>\n",
       "<style scoped>\n",
       "    .dataframe tbody tr th:only-of-type {\n",
       "        vertical-align: middle;\n",
       "    }\n",
       "\n",
       "    .dataframe tbody tr th {\n",
       "        vertical-align: top;\n",
       "    }\n",
       "\n",
       "    .dataframe thead th {\n",
       "        text-align: right;\n",
       "    }\n",
       "</style>\n",
       "<table border=\"1\" class=\"dataframe\">\n",
       "  <thead>\n",
       "    <tr style=\"text-align: right;\">\n",
       "      <th></th>\n",
       "      <th>PROD_QTY</th>\n",
       "      <th>TOT_SALES</th>\n",
       "    </tr>\n",
       "  </thead>\n",
       "  <tbody>\n",
       "    <tr>\n",
       "      <th>count</th>\n",
       "      <td>264833.000000</td>\n",
       "      <td>264833.000000</td>\n",
       "    </tr>\n",
       "    <tr>\n",
       "      <th>mean</th>\n",
       "      <td>1.905812</td>\n",
       "      <td>7.299351</td>\n",
       "    </tr>\n",
       "    <tr>\n",
       "      <th>std</th>\n",
       "      <td>0.343437</td>\n",
       "      <td>2.527244</td>\n",
       "    </tr>\n",
       "    <tr>\n",
       "      <th>min</th>\n",
       "      <td>1.000000</td>\n",
       "      <td>1.500000</td>\n",
       "    </tr>\n",
       "    <tr>\n",
       "      <th>25%</th>\n",
       "      <td>2.000000</td>\n",
       "      <td>5.400000</td>\n",
       "    </tr>\n",
       "    <tr>\n",
       "      <th>50%</th>\n",
       "      <td>2.000000</td>\n",
       "      <td>7.400000</td>\n",
       "    </tr>\n",
       "    <tr>\n",
       "      <th>75%</th>\n",
       "      <td>2.000000</td>\n",
       "      <td>9.200000</td>\n",
       "    </tr>\n",
       "    <tr>\n",
       "      <th>max</th>\n",
       "      <td>5.000000</td>\n",
       "      <td>29.500000</td>\n",
       "    </tr>\n",
       "  </tbody>\n",
       "</table>\n",
       "</div>"
      ],
      "text/plain": [
       "            PROD_QTY      TOT_SALES\n",
       "count  264833.000000  264833.000000\n",
       "mean        1.905812       7.299351\n",
       "std         0.343437       2.527244\n",
       "min         1.000000       1.500000\n",
       "25%         2.000000       5.400000\n",
       "50%         2.000000       7.400000\n",
       "75%         2.000000       9.200000\n",
       "max         5.000000      29.500000"
      ]
     },
     "execution_count": 182,
     "metadata": {},
     "output_type": "execute_result"
    }
   ],
   "source": [
    "df_normal[['PROD_QTY', 'TOT_SALES']].describe()\n"
   ]
  },
  {
   "cell_type": "code",
   "execution_count": 184,
   "id": "cf53a3b7-998c-4d9e-871a-b4e3d632be36",
   "metadata": {},
   "outputs": [
    {
     "name": "stdout",
     "output_type": "stream",
     "text": [
      "Unique Customers: 72637\n",
      "Unique Stores: 272\n",
      "Unique Products: 114\n",
      "Customer Segments: ['YOUNG SINGLES/COUPLES' 'YOUNG FAMILIES' 'OLDER SINGLES/COUPLES'\n",
      " 'MIDAGE SINGLES/COUPLES' 'NEW FAMILIES' 'OLDER FAMILIES' 'RETIREES']\n",
      "Premium Segments: ['Premium' 'Mainstream' 'Budget']\n"
     ]
    }
   ],
   "source": [
    "print(\"Unique Customers:\", df_merged['LYLTY_CARD_NBR'].nunique())\n",
    "print(\"Unique Stores:\", df_merged['STORE_NBR'].nunique())\n",
    "print(\"Unique Products:\", df_merged['PROD_NAME'].nunique())\n",
    "print(\"Customer Segments:\", df_merged['LIFESTAGE'].unique())\n",
    "print(\"Premium Segments:\", df_merged['PREMIUM_CUSTOMER'].unique())"
   ]
  },
  {
   "cell_type": "code",
   "execution_count": 194,
   "id": "13ea7c32-96da-4f46-ac88-f73468712062",
   "metadata": {},
   "outputs": [
    {
     "data": {
      "text/plain": [
       "LIFESTAGE\n",
       "OLDER SINGLES/COUPLES     402420.75\n",
       "RETIREES                  366470.90\n",
       "OLDER FAMILIES            352467.20\n",
       "YOUNG FAMILIES            316160.10\n",
       "YOUNG SINGLES/COUPLES     260405.30\n",
       "MIDAGE SINGLES/COUPLES    184751.30\n",
       "NEW FAMILIES               50433.45\n",
       "Name: TOT_SALES, dtype: float64"
      ]
     },
     "execution_count": 194,
     "metadata": {},
     "output_type": "execute_result"
    }
   ],
   "source": [
    "#LIFESTAGE spendings\n",
    "df_normal.groupby('LIFESTAGE')['TOT_SALES'].sum().sort_values(ascending=False)"
   ]
  },
  {
   "cell_type": "code",
   "execution_count": 196,
   "id": "506067cc-43ad-4e14-8738-b7661d999930",
   "metadata": {},
   "outputs": [
    {
     "data": {
      "text/plain": [
       "PREMIUM_CUSTOMER\n",
       "Budget        7.258838\n",
       "Mainstream    7.361106\n",
       "Premium       7.263129\n",
       "Name: TOT_SALES, dtype: float64"
      ]
     },
     "execution_count": 196,
     "metadata": {},
     "output_type": "execute_result"
    }
   ],
   "source": [
    "#PREMIUM_CUSTOMER spendings\n",
    "df_normal.groupby('PREMIUM_CUSTOMER')['TOT_SALES'].mean()"
   ]
  },
  {
   "cell_type": "code",
   "execution_count": 208,
   "id": "390bb176-cb2e-40e5-a56a-38b07f81eb76",
   "metadata": {},
   "outputs": [
    {
     "data": {
      "text/plain": [
       "PROD_NAME\n",
       "Dorito Corn Chp     Supreme 380g            39052.0\n",
       "Smiths Crnkle Chip  Orgnl Big Bag 380g      36367.6\n",
       "Smiths Crinkle Chips Salt & Vinegar 330g    34804.2\n",
       "Kettle Mozzarella   Basil & Pesto 175g      34457.4\n",
       "Smiths Crinkle      Original 330g           34302.6\n",
       "Cheezels Cheese 330g                        34296.9\n",
       "Doritos Cheese      Supreme 330g            33390.6\n",
       "Kettle Sweet Chilli And Sour Cream 175g     33031.8\n",
       "Kettle Original 175g                        32740.2\n",
       "Kettle Sea Salt     And Vinegar 175g        32589.0\n",
       "Name: TOT_SALES, dtype: float64"
      ]
     },
     "execution_count": 208,
     "metadata": {},
     "output_type": "execute_result"
    }
   ],
   "source": [
    "# Best-selling products\n",
    "df_normal.groupby('PROD_NAME')['TOT_SALES'].sum().sort_values(ascending=False).head(10)"
   ]
  },
  {
   "cell_type": "code",
   "execution_count": 210,
   "id": "d7a8e547-780e-40cd-b7bd-df77970cdef2",
   "metadata": {},
   "outputs": [
    {
     "data": {
      "text/plain": [
       "STORE_NBR\n",
       "226    17605.45\n",
       "88     16333.25\n",
       "165    15973.75\n",
       "40     15559.50\n",
       "237    15539.50\n",
       "58     15251.45\n",
       "199    14797.00\n",
       "4      14647.65\n",
       "203    14551.60\n",
       "26     14469.30\n",
       "Name: TOT_SALES, dtype: float64"
      ]
     },
     "execution_count": 210,
     "metadata": {},
     "output_type": "execute_result"
    }
   ],
   "source": [
    "df_normal.groupby('STORE_NBR')['TOT_SALES'].sum().sort_values(ascending=False).head(10)"
   ]
  },
  {
   "cell_type": "code",
   "execution_count": 212,
   "id": "3648c0b4-fa99-4db1-b9f7-eb531a5a6884",
   "metadata": {},
   "outputs": [
    {
     "data": {
      "text/plain": [
       "STORE_NBR\n",
       "226    18905.45\n",
       "88     16333.25\n",
       "165    15973.75\n",
       "40     15559.50\n",
       "237    15539.50\n",
       "58     15251.45\n",
       "199    14797.00\n",
       "4      14647.65\n",
       "203    14551.60\n",
       "26     14469.30\n",
       "Name: TOT_SALES, dtype: float64"
      ]
     },
     "execution_count": 212,
     "metadata": {},
     "output_type": "execute_result"
    }
   ],
   "source": [
    "df_merged.groupby('STORE_NBR')['TOT_SALES'].sum().sort_values(ascending=False).head(10)"
   ]
  },
  {
   "cell_type": "code",
   "execution_count": 216,
   "id": "66767857-6596-4fd9-9c53-e2787c647c69",
   "metadata": {},
   "outputs": [
    {
     "data": {
      "image/png": "[encoded data removed]",
      "text/plain": [
       "<Figure size 640x480 with 1 Axes>"
      ]
     },
     "metadata": {},
     "output_type": "display_data"
    }
   ],
   "source": [
    "import matplotlib.pyplot as plt\n",
    "\n",
    "plt.hist(df_normal['TOT_SALES'], bins=30, edgecolor='black', alpha=0.7)\n",
    "plt.title('Distribution of Total Sales')\n",
    "plt.xlabel('Total Sales ($)')\n",
    "plt.ylabel('Frequency')\n",
    "plt.show()"
   ]
  },
  {
   "cell_type": "code",
   "execution_count": 236,
   "id": "29d9ef8e-f46d-4a95-996f-9742eefa5f9a",
   "metadata": {},
   "outputs": [
    {
     "name": "stdout",
     "output_type": "stream",
     "text": [
      "                                PROD_NAME  PACK_SIZE\n",
      "0  Natural Chip        Compny SeaSalt175g        175\n",
      "1   Red Rock Deli Chikn&Garlic Aioli 150g        150\n",
      "2   Grain Waves Sour    Cream&Chives 210G        210\n",
      "3  Natural ChipCo      Hony Soy Chckn175g        175\n",
      "4          WW Original Stacked Chips 160g        160\n"
     ]
    }
   ],
   "source": [
    "import re\n",
    "\n",
    "# Function to extract pack size\n",
    "def extract_pack_size(prod_name):\n",
    "    match = re.search(r'(\\d{2,3})[gG]', prod_name)  # Looks for a number followed by 'g'\n",
    "    return int(match.group(1)) if match else None  # Convert to integer\n",
    "\n",
    "# Apply function to create a new 'PACK_SIZE' column\n",
    "df_merged['PACK_SIZE'] = df_merged['PROD_NAME'].apply(extract_pack_size)\n",
    "\n",
    "# Check if it worked\n",
    "print(df_merged[['PROD_NAME', 'PACK_SIZE']].head())\n"
   ]
  },
  {
   "cell_type": "code",
   "execution_count": 259,
   "id": "62c56ed8-2710-4a3f-9498-a1e8469d4c9c",
   "metadata": {},
   "outputs": [
    {
     "name": "stdout",
     "output_type": "stream",
     "text": [
      "                                   PROD_NAME       BRAND\n",
      "0     Natural Chip        Compny SeaSalt175g     Natural\n",
      "1      Red Rock Deli Chikn&Garlic Aioli 150g         Red\n",
      "2      Grain Waves Sour    Cream&Chives 210G       Grain\n",
      "3     Natural ChipCo      Hony Soy Chckn175g     Natural\n",
      "4             WW Original Stacked Chips 160g          WW\n",
      "5                         Cheetos Puffs 165g     Cheetos\n",
      "6   Infuzions SourCream&Herbs Veg Strws 110g   Infuzions\n",
      "7        RRD SR Slow Rst     Pork Belly 150g         RRD\n",
      "8           Doritos Cheese      Supreme 330g     Doritos\n",
      "9                   Doritos Mexicana    170g     Doritos\n",
      "10   Old El Paso Salsa   Dip Tomato Med 300g         Old\n",
      "11     GrnWves Plus Btroot & Chilli Jam 180g     GrnWves\n",
      "12   Old El Paso Salsa   Dip Tomato Med 300g         Old\n",
      "13  Infuzions SourCream&Herbs Veg Strws 110g   Infuzions\n",
      "14   Smiths Crinkle Cut  Chips Barbecue 170g      Smiths\n",
      "15          Doritos Cheese      Supreme 330g     Doritos\n",
      "16  Kettle Sensations   Camembert & Fig 150g      Kettle\n",
      "17   Doritos Corn Chip Southern Chicken 150g     Doritos\n",
      "18                  CCs Tasty Cheese    175g         CCs\n",
      "19             Tostitos Splash Of  Lime 175g    Tostitos\n",
      "20              Kettle 135g Swt Pot Sea Salt      Kettle\n",
      "21  Kettle Sensations   Camembert & Fig 150g      Kettle\n",
      "22                  RRD Salt & Vinegar  165g         RRD\n",
      "23   Infuzions Mango     Chutny Papadums 70g   Infuzions\n",
      "24     GrnWves Plus Btroot & Chilli Jam 180g     GrnWves\n",
      "25       Smiths Crinkle Cut  Snag&Sauce 150g      Smiths\n",
      "26         Smiths Crinkle      Original 330g      Smiths\n",
      "27     GrnWves Plus Btroot & Chilli Jam 180g     GrnWves\n",
      "28  Kettle Sensations   Camembert & Fig 150g      Kettle\n",
      "29       RRD Sweet Chilli &  Sour Cream 165g         RRD\n",
      "30    Natural Chip        Compny SeaSalt175g     Natural\n",
      "31    Smiths Chip Thinly  S/Cream&Onion 175g      Smiths\n",
      "32                  CCs Tasty Cheese    175g         CCs\n",
      "33   Infuzions Mango     Chutny Papadums 70g   Infuzions\n",
      "34  Smiths Crinkle Chips Salt & Vinegar 330g      Smiths\n",
      "35  Red Rock Deli SR    Salsa & Mzzrlla 150g         Red\n",
      "36       RRD SR Slow Rst     Pork Belly 150g         RRD\n",
      "37            Cobs Popd Sea Salt  Chips 110g        Cobs\n",
      "38    Natural ChipCo Sea  Salt & Vinegr 175g     Natural\n",
      "39       RRD Sweet Chilli &  Sour Cream 165g         RRD\n",
      "40   Natural Chip Co     Tmato Hrb&Spce 175g     Natural\n",
      "41                         Burger Rings 220g      Burger\n",
      "42              Kettle 135g Swt Pot Sea Salt      Kettle\n",
      "43            Woolworths Cheese   Rings 190g  Woolworths\n",
      "44  Smiths Thinly       Swt Chli&S/Cream175G      Smiths\n",
      "45          Thins Chips Seasonedchicken 175g       Thins\n",
      "46    Smiths Thinly Cut   Roast Chicken 175g      Smiths\n",
      "47    Tyrrells Crisps     Ched & Chives 165g    Tyrrells\n",
      "48   Smiths Crinkle Cut  Chips Barbecue 170g      Smiths\n",
      "49   Doritos Corn Chips  Cheese Supreme 170g     Doritos\n"
     ]
    }
   ],
   "source": [
    "# Extract first word as brand name\n",
    "df_merged['BRAND'] = df_merged['PROD_NAME'].apply(lambda x: x.split()[0])\n",
    "\n",
    "# Check results\n",
    "print(df_merged[['PROD_NAME', 'BRAND']].head(50))\n"
   ]
  },
  {
   "cell_type": "code",
   "execution_count": 251,
   "id": "0ec7dbce-ad9a-4db9-8037-3951bbac9399",
   "metadata": {},
   "outputs": [
    {
     "name": "stdout",
     "output_type": "stream",
     "text": [
      "['Natural' 'Red' 'Grain' 'WW' 'Cheetos' 'Infuzions' 'RRD' 'Doritos' 'Old'\n",
      " 'GrnWves' 'Smiths' 'Kettle' 'CCs' 'Tostitos' 'Cobs' 'Burger' 'Woolworths'\n",
      " 'Thins' 'Tyrrells' 'Smith' 'Cheezels' 'Twisties' 'Sunbites' 'Snbts'\n",
      " 'Pringles' 'French' 'Infzns' 'Dorito' 'NCC']\n"
     ]
    }
   ],
   "source": [
    "# Get unique brand names in df_merged\n",
    "unique_brands = df_merged['BRAND'].unique()\n",
    "\n",
    "# Display the unique brand names\n",
    "print(unique_brands)\n"
   ]
  },
  {
   "cell_type": "code",
   "execution_count": 269,
   "id": "0ddac660-a3ff-48f7-87ce-0c25f50ed9c0",
   "metadata": {},
   "outputs": [
    {
     "name": "stdout",
     "output_type": "stream",
     "text": [
      "['Natural Chip Company' 'Red Rock Deli' 'Grain Waves' 'Woolworths'\n",
      " 'Cheetos' 'Infuzions' 'Doritos' 'Old' 'Smiths' 'Kettle' 'CCs' 'Tostitos'\n",
      " 'Cobs' 'Burger' 'Thins' 'Tyrrells' 'Cheezels' 'Twisties' 'Sunbites'\n",
      " 'Pringles' 'French Fries']\n"
     ]
    }
   ],
   "source": [
    "# Standardize brand names\n",
    "df_merged['BRAND'] = df_merged['BRAND'].replace({\n",
    "    'Infzns': 'Infuzions',\n",
    "    'RRD': 'Red Rock Deli',\n",
    "    'Red': 'Red Rock Deli',\n",
    "    'WW': 'Woolworths',\n",
    "    'GrnWves': 'Grain Waves',\n",
    "    'Grain': 'Grain Waves',\n",
    "    'Smith': 'Smiths',\n",
    "    'Dorito': 'Doritos',\n",
    "    'NCC': 'Natural Chip Company',\n",
    "    'Natural': 'Natural Chip Company',\n",
    "    'Natural Chip Co': 'Natural Chip Company',\n",
    "    'Snbts': 'Sunbites',\n",
    "    'French': 'French Fries',\n",
    "})\n",
    "\n",
    "# Check unique brands after standardization\n",
    "print(df_merged['BRAND'].unique())"
   ]
  },
  {
   "cell_type": "code",
   "execution_count": 271,
   "id": "0d146249-6696-46b0-8d22-ac1d3e442ddb",
   "metadata": {},
   "outputs": [],
   "source": [
    "df_normal = df_merged[df_merged['BULK_PURCHASE'] == 'NO'].copy()"
   ]
  },
  {
   "cell_type": "code",
   "execution_count": 273,
   "id": "abbf06da-eeb4-4848-9a82-5bf8400f2a27",
   "metadata": {},
   "outputs": [
    {
     "data": {
      "text/html": [
       "<div>\n",
       "<style scoped>\n",
       "    .dataframe tbody tr th:only-of-type {\n",
       "        vertical-align: middle;\n",
       "    }\n",
       "\n",
       "    .dataframe tbody tr th {\n",
       "        vertical-align: top;\n",
       "    }\n",
       "\n",
       "    .dataframe thead th {\n",
       "        text-align: right;\n",
       "    }\n",
       "</style>\n",
       "<table border=\"1\" class=\"dataframe\">\n",
       "  <thead>\n",
       "    <tr style=\"text-align: right;\">\n",
       "      <th></th>\n",
       "      <th>LYLTY_CARD_NBR</th>\n",
       "      <th>LIFESTAGE</th>\n",
       "      <th>PREMIUM_CUSTOMER</th>\n",
       "      <th>DATE</th>\n",
       "      <th>STORE_NBR</th>\n",
       "      <th>TXN_ID</th>\n",
       "      <th>PROD_NBR</th>\n",
       "      <th>PROD_NAME</th>\n",
       "      <th>PROD_QTY</th>\n",
       "      <th>TOT_SALES</th>\n",
       "      <th>BULK_PURCHASE</th>\n",
       "      <th>PACK_SIZE</th>\n",
       "      <th>BRAND</th>\n",
       "    </tr>\n",
       "  </thead>\n",
       "  <tbody>\n",
       "    <tr>\n",
       "      <th>0</th>\n",
       "      <td>1000</td>\n",
       "      <td>YOUNG SINGLES/COUPLES</td>\n",
       "      <td>Premium</td>\n",
       "      <td>2018-10-17</td>\n",
       "      <td>1</td>\n",
       "      <td>1</td>\n",
       "      <td>5</td>\n",
       "      <td>Natural Chip        Compny SeaSalt175g</td>\n",
       "      <td>2</td>\n",
       "      <td>6.0</td>\n",
       "      <td>NO</td>\n",
       "      <td>175</td>\n",
       "      <td>Natural Chip Company</td>\n",
       "    </tr>\n",
       "    <tr>\n",
       "      <th>1</th>\n",
       "      <td>1002</td>\n",
       "      <td>YOUNG SINGLES/COUPLES</td>\n",
       "      <td>Mainstream</td>\n",
       "      <td>2018-09-16</td>\n",
       "      <td>1</td>\n",
       "      <td>2</td>\n",
       "      <td>58</td>\n",
       "      <td>Red Rock Deli Chikn&amp;Garlic Aioli 150g</td>\n",
       "      <td>1</td>\n",
       "      <td>2.7</td>\n",
       "      <td>NO</td>\n",
       "      <td>150</td>\n",
       "      <td>Red Rock Deli</td>\n",
       "    </tr>\n",
       "    <tr>\n",
       "      <th>2</th>\n",
       "      <td>1003</td>\n",
       "      <td>YOUNG FAMILIES</td>\n",
       "      <td>Budget</td>\n",
       "      <td>2019-03-07</td>\n",
       "      <td>1</td>\n",
       "      <td>3</td>\n",
       "      <td>52</td>\n",
       "      <td>Grain Waves Sour    Cream&amp;Chives 210G</td>\n",
       "      <td>1</td>\n",
       "      <td>3.6</td>\n",
       "      <td>NO</td>\n",
       "      <td>210</td>\n",
       "      <td>Grain Waves</td>\n",
       "    </tr>\n",
       "    <tr>\n",
       "      <th>3</th>\n",
       "      <td>1003</td>\n",
       "      <td>YOUNG FAMILIES</td>\n",
       "      <td>Budget</td>\n",
       "      <td>2019-03-08</td>\n",
       "      <td>1</td>\n",
       "      <td>4</td>\n",
       "      <td>106</td>\n",
       "      <td>Natural ChipCo      Hony Soy Chckn175g</td>\n",
       "      <td>1</td>\n",
       "      <td>3.0</td>\n",
       "      <td>NO</td>\n",
       "      <td>175</td>\n",
       "      <td>Natural Chip Company</td>\n",
       "    </tr>\n",
       "    <tr>\n",
       "      <th>4</th>\n",
       "      <td>1004</td>\n",
       "      <td>OLDER SINGLES/COUPLES</td>\n",
       "      <td>Mainstream</td>\n",
       "      <td>2018-11-02</td>\n",
       "      <td>1</td>\n",
       "      <td>5</td>\n",
       "      <td>96</td>\n",
       "      <td>WW Original Stacked Chips 160g</td>\n",
       "      <td>1</td>\n",
       "      <td>1.9</td>\n",
       "      <td>NO</td>\n",
       "      <td>160</td>\n",
       "      <td>Woolworths</td>\n",
       "    </tr>\n",
       "  </tbody>\n",
       "</table>\n",
       "</div>"
      ],
      "text/plain": [
       "  LYLTY_CARD_NBR              LIFESTAGE PREMIUM_CUSTOMER       DATE  \\\n",
       "0           1000  YOUNG SINGLES/COUPLES          Premium 2018-10-17   \n",
       "1           1002  YOUNG SINGLES/COUPLES       Mainstream 2018-09-16   \n",
       "2           1003         YOUNG FAMILIES           Budget 2019-03-07   \n",
       "3           1003         YOUNG FAMILIES           Budget 2019-03-08   \n",
       "4           1004  OLDER SINGLES/COUPLES       Mainstream 2018-11-02   \n",
       "\n",
       "   STORE_NBR  TXN_ID  PROD_NBR                               PROD_NAME  \\\n",
       "0          1       1         5  Natural Chip        Compny SeaSalt175g   \n",
       "1          1       2        58   Red Rock Deli Chikn&Garlic Aioli 150g   \n",
       "2          1       3        52   Grain Waves Sour    Cream&Chives 210G   \n",
       "3          1       4       106  Natural ChipCo      Hony Soy Chckn175g   \n",
       "4          1       5        96          WW Original Stacked Chips 160g   \n",
       "\n",
       "   PROD_QTY  TOT_SALES BULK_PURCHASE  PACK_SIZE                 BRAND  \n",
       "0         2        6.0            NO        175  Natural Chip Company  \n",
       "1         1        2.7            NO        150         Red Rock Deli  \n",
       "2         1        3.6            NO        210           Grain Waves  \n",
       "3         1        3.0            NO        175  Natural Chip Company  \n",
       "4         1        1.9            NO        160            Woolworths  "
      ]
     },
     "execution_count": 273,
     "metadata": {},
     "output_type": "execute_result"
    }
   ],
   "source": [
    "df_normal.head()"
   ]
  },
  {
   "cell_type": "code",
   "execution_count": null,
   "id": "c8175fd4-bfe7-40c8-8d4f-b318ed68067c",
   "metadata": {},
   "outputs": [],
   "source": []
  }
 ],
 "metadata": {
  "kernelspec": {
   "display_name": "Python [conda env:base] *",
   "language": "python",
   "name": "conda-base-py"
  },
  "language_info": {
   "codemirror_mode": {
    "name": "ipython",
    "version": 3
   },
   "file_extension": ".py",
   "mimetype": "text/x-python",
   "name": "python",
   "nbconvert_exporter": "python",
   "pygments_lexer": "ipython3",
   "version": "3.11.7"
  }
 },
 "nbformat": 4,
 "nbformat_minor": 5
}
