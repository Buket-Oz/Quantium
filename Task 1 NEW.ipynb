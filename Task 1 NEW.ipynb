{
 "cells": [
  {
   "cell_type": "markdown",
   "id": "28ae1fb8-a054-4c2c-8496-5f8484608dd1",
   "metadata": {},
   "source": [
    "# Importing linraries and dataframes"
   ]
  },
  {
   "cell_type": "code",
   "execution_count": 3,
   "id": "1d6e65a1-552e-455b-a5fa-9bccfc66eb92",
   "metadata": {},
   "outputs": [],
   "source": [
    "#Import libraries\n",
    "import pandas as pd\n",
    "import numpy as np\n",
    "import seaborn as sns\n",
    "import matplotlib.pyplot as plt\n",
    "import matplotlib\n",
    "import os"
   ]
  },
  {
   "cell_type": "code",
   "execution_count": 5,
   "id": "03bc7a82-cde9-4f5d-a9e5-39ffe0b211e7",
   "metadata": {},
   "outputs": [],
   "source": [
    "#Create a path and import dataframes\n",
    "path = r'/Users/buketoztekin/Documents/Quantium/'\n",
    "file_path = os.path.join(path, '2_Data', 'QVI_purchase_behaviour.csv')\n",
    "df_purchase = pd.read_csv(file_path)\n",
    "file_path2 = os.path.join(path, '2_Data', 'QVI_transaction_Data.xlsx')\n",
    "df_transaction = pd.read_excel(file_path2)"
   ]
  },
  {
   "cell_type": "markdown",
   "id": "05f05353-2f87-4ddc-86aa-6f1474743246",
   "metadata": {},
   "source": [
    "# Data cleaning and wrangling"
   ]
  },
  {
   "cell_type": "markdown",
   "id": "55d8fc33-9365-4c4e-a22d-f1c56143acfb",
   "metadata": {},
   "source": [
    "## Data cleaning and wrangling: df_purchase dataframe"
   ]
  },
  {
   "cell_type": "code",
   "execution_count": 13,
   "id": "f323c872-805e-4cb2-9d0c-a9ebe96fd49a",
   "metadata": {},
   "outputs": [
    {
     "data": {
      "text/html": [
       "<div>\n",
       "<style scoped>\n",
       "    .dataframe tbody tr th:only-of-type {\n",
       "        vertical-align: middle;\n",
       "    }\n",
       "\n",
       "    .dataframe tbody tr th {\n",
       "        vertical-align: top;\n",
       "    }\n",
       "\n",
       "    .dataframe thead th {\n",
       "        text-align: right;\n",
       "    }\n",
       "</style>\n",
       "<table border=\"1\" class=\"dataframe\">\n",
       "  <thead>\n",
       "    <tr style=\"text-align: right;\">\n",
       "      <th></th>\n",
       "      <th>LYLTY_CARD_NBR</th>\n",
       "      <th>LIFESTAGE</th>\n",
       "      <th>PREMIUM_CUSTOMER</th>\n",
       "    </tr>\n",
       "  </thead>\n",
       "  <tbody>\n",
       "    <tr>\n",
       "      <th>0</th>\n",
       "      <td>1000</td>\n",
       "      <td>YOUNG SINGLES/COUPLES</td>\n",
       "      <td>Premium</td>\n",
       "    </tr>\n",
       "    <tr>\n",
       "      <th>1</th>\n",
       "      <td>1002</td>\n",
       "      <td>YOUNG SINGLES/COUPLES</td>\n",
       "      <td>Mainstream</td>\n",
       "    </tr>\n",
       "    <tr>\n",
       "      <th>2</th>\n",
       "      <td>1003</td>\n",
       "      <td>YOUNG FAMILIES</td>\n",
       "      <td>Budget</td>\n",
       "    </tr>\n",
       "    <tr>\n",
       "      <th>3</th>\n",
       "      <td>1004</td>\n",
       "      <td>OLDER SINGLES/COUPLES</td>\n",
       "      <td>Mainstream</td>\n",
       "    </tr>\n",
       "    <tr>\n",
       "      <th>4</th>\n",
       "      <td>1005</td>\n",
       "      <td>MIDAGE SINGLES/COUPLES</td>\n",
       "      <td>Mainstream</td>\n",
       "    </tr>\n",
       "  </tbody>\n",
       "</table>\n",
       "</div>"
      ],
      "text/plain": [
       "   LYLTY_CARD_NBR               LIFESTAGE PREMIUM_CUSTOMER\n",
       "0            1000   YOUNG SINGLES/COUPLES          Premium\n",
       "1            1002   YOUNG SINGLES/COUPLES       Mainstream\n",
       "2            1003          YOUNG FAMILIES           Budget\n",
       "3            1004   OLDER SINGLES/COUPLES       Mainstream\n",
       "4            1005  MIDAGE SINGLES/COUPLES       Mainstream"
      ]
     },
     "execution_count": 13,
     "metadata": {},
     "output_type": "execute_result"
    }
   ],
   "source": [
    "df_purchase.head()"
   ]
  },
  {
   "cell_type": "code",
   "execution_count": 15,
   "id": "d7dc1534-a3e3-4d58-8657-7e9c5290932a",
   "metadata": {},
   "outputs": [
    {
     "data": {
      "text/plain": [
       "(72637, 3)"
      ]
     },
     "execution_count": 15,
     "metadata": {},
     "output_type": "execute_result"
    }
   ],
   "source": [
    "df_purchase.shape"
   ]
  },
  {
   "cell_type": "code",
   "execution_count": 17,
   "id": "30250cdb-99a3-403c-98d7-1bd6fd0af3fc",
   "metadata": {},
   "outputs": [
    {
     "data": {
      "text/plain": [
       "LYLTY_CARD_NBR       int64\n",
       "LIFESTAGE           object\n",
       "PREMIUM_CUSTOMER    object\n",
       "dtype: object"
      ]
     },
     "execution_count": 17,
     "metadata": {},
     "output_type": "execute_result"
    }
   ],
   "source": [
    "#Check datatypes\n",
    "df_purchase.dtypes"
   ]
  },
  {
   "cell_type": "code",
   "execution_count": 19,
   "id": "78210272-65f8-4b49-b3d6-d13d458f70c2",
   "metadata": {},
   "outputs": [],
   "source": [
    "#Convert the datatype to object for loyalty card number column\n",
    "df_purchase['LYLTY_CARD_NBR'] = df_purchase['LYLTY_CARD_NBR'].astype(str)"
   ]
  },
  {
   "cell_type": "code",
   "execution_count": 21,
   "id": "46ea5db3-f8bf-46e9-a984-aa2875bc9727",
   "metadata": {},
   "outputs": [
    {
     "data": {
      "text/plain": [
       "LYLTY_CARD_NBR      object\n",
       "LIFESTAGE           object\n",
       "PREMIUM_CUSTOMER    object\n",
       "dtype: object"
      ]
     },
     "execution_count": 21,
     "metadata": {},
     "output_type": "execute_result"
    }
   ],
   "source": [
    "#Check again\n",
    "df_purchase.dtypes"
   ]
  },
  {
   "cell_type": "code",
   "execution_count": 27,
   "id": "a4127a8d-e19f-4fd5-8534-54913d8892ba",
   "metadata": {},
   "outputs": [
    {
     "name": "stdout",
     "output_type": "stream",
     "text": [
      "LYLTY_CARD_NBR      0\n",
      "LIFESTAGE           0\n",
      "PREMIUM_CUSTOMER    0\n",
      "dtype: int64\n"
     ]
    }
   ],
   "source": [
    "#Count missing values\n",
    "print(df_purchase.isnull().sum())"
   ]
  },
  {
   "cell_type": "code",
   "execution_count": 29,
   "id": "fd33e5b9-8347-46e8-97cf-3720f1b78d3d",
   "metadata": {},
   "outputs": [
    {
     "data": {
      "text/plain": [
       "0"
      ]
     },
     "execution_count": 29,
     "metadata": {},
     "output_type": "execute_result"
    }
   ],
   "source": [
    "#Count duplicates\n",
    "df_purchase.duplicated().sum()"
   ]
  },
  {
   "cell_type": "code",
   "execution_count": 31,
   "id": "404f0a22-377f-44c6-8140-9d3cad12cd23",
   "metadata": {},
   "outputs": [
    {
     "name": "stdout",
     "output_type": "stream",
     "text": [
      "['YOUNG SINGLES/COUPLES' 'YOUNG FAMILIES' 'OLDER SINGLES/COUPLES'\n",
      " 'MIDAGE SINGLES/COUPLES' 'NEW FAMILIES' 'OLDER FAMILIES' 'RETIREES']\n",
      "['Premium' 'Mainstream' 'Budget']\n"
     ]
    }
   ],
   "source": [
    "#Check Unique Values for LIFESTAGE and PREMIUM_CUSTOMER\n",
    "print(df_purchase['LIFESTAGE'].unique())\n",
    "print(df_purchase['PREMIUM_CUSTOMER'].unique())"
   ]
  },
  {
   "cell_type": "markdown",
   "id": "719430a2-f419-46eb-b924-f974b3fc1f71",
   "metadata": {},
   "source": [
    "## Data cleaning and wrangling: df_transaction dataframe"
   ]
  },
  {
   "cell_type": "code",
   "execution_count": 49,
   "id": "b01427a3-4251-40d7-8a00-507eef5e4996",
   "metadata": {},
   "outputs": [
    {
     "data": {
      "text/html": [
       "<div>\n",
       "<style scoped>\n",
       "    .dataframe tbody tr th:only-of-type {\n",
       "        vertical-align: middle;\n",
       "    }\n",
       "\n",
       "    .dataframe tbody tr th {\n",
       "        vertical-align: top;\n",
       "    }\n",
       "\n",
       "    .dataframe thead th {\n",
       "        text-align: right;\n",
       "    }\n",
       "</style>\n",
       "<table border=\"1\" class=\"dataframe\">\n",
       "  <thead>\n",
       "    <tr style=\"text-align: right;\">\n",
       "      <th></th>\n",
       "      <th>DATE</th>\n",
       "      <th>STORE_NBR</th>\n",
       "      <th>LYLTY_CARD_NBR</th>\n",
       "      <th>TXN_ID</th>\n",
       "      <th>PROD_NBR</th>\n",
       "      <th>PROD_NAME</th>\n",
       "      <th>PROD_QTY</th>\n",
       "      <th>TOT_SALES</th>\n",
       "    </tr>\n",
       "  </thead>\n",
       "  <tbody>\n",
       "    <tr>\n",
       "      <th>0</th>\n",
       "      <td>43390</td>\n",
       "      <td>1</td>\n",
       "      <td>1000</td>\n",
       "      <td>1</td>\n",
       "      <td>5</td>\n",
       "      <td>Natural Chip        Compny SeaSalt175g</td>\n",
       "      <td>2</td>\n",
       "      <td>6.0</td>\n",
       "    </tr>\n",
       "    <tr>\n",
       "      <th>1</th>\n",
       "      <td>43599</td>\n",
       "      <td>1</td>\n",
       "      <td>1307</td>\n",
       "      <td>348</td>\n",
       "      <td>66</td>\n",
       "      <td>CCs Nacho Cheese    175g</td>\n",
       "      <td>3</td>\n",
       "      <td>6.3</td>\n",
       "    </tr>\n",
       "    <tr>\n",
       "      <th>2</th>\n",
       "      <td>43605</td>\n",
       "      <td>1</td>\n",
       "      <td>1343</td>\n",
       "      <td>383</td>\n",
       "      <td>61</td>\n",
       "      <td>Smiths Crinkle Cut  Chips Chicken 170g</td>\n",
       "      <td>2</td>\n",
       "      <td>2.9</td>\n",
       "    </tr>\n",
       "    <tr>\n",
       "      <th>3</th>\n",
       "      <td>43329</td>\n",
       "      <td>2</td>\n",
       "      <td>2373</td>\n",
       "      <td>974</td>\n",
       "      <td>69</td>\n",
       "      <td>Smiths Chip Thinly  S/Cream&amp;Onion 175g</td>\n",
       "      <td>5</td>\n",
       "      <td>15.0</td>\n",
       "    </tr>\n",
       "    <tr>\n",
       "      <th>4</th>\n",
       "      <td>43330</td>\n",
       "      <td>2</td>\n",
       "      <td>2426</td>\n",
       "      <td>1038</td>\n",
       "      <td>108</td>\n",
       "      <td>Kettle Tortilla ChpsHny&amp;Jlpno Chili 150g</td>\n",
       "      <td>3</td>\n",
       "      <td>13.8</td>\n",
       "    </tr>\n",
       "  </tbody>\n",
       "</table>\n",
       "</div>"
      ],
      "text/plain": [
       "    DATE  STORE_NBR  LYLTY_CARD_NBR  TXN_ID  PROD_NBR  \\\n",
       "0  43390          1            1000       1         5   \n",
       "1  43599          1            1307     348        66   \n",
       "2  43605          1            1343     383        61   \n",
       "3  43329          2            2373     974        69   \n",
       "4  43330          2            2426    1038       108   \n",
       "\n",
       "                                  PROD_NAME  PROD_QTY  TOT_SALES  \n",
       "0    Natural Chip        Compny SeaSalt175g         2        6.0  \n",
       "1                  CCs Nacho Cheese    175g         3        6.3  \n",
       "2    Smiths Crinkle Cut  Chips Chicken 170g         2        2.9  \n",
       "3    Smiths Chip Thinly  S/Cream&Onion 175g         5       15.0  \n",
       "4  Kettle Tortilla ChpsHny&Jlpno Chili 150g         3       13.8  "
      ]
     },
     "execution_count": 49,
     "metadata": {},
     "output_type": "execute_result"
    }
   ],
   "source": [
    "df_transaction.head()"
   ]
  },
  {
   "cell_type": "code",
   "execution_count": 51,
   "id": "fa2bde83-597d-4c96-8a76-ea696240139e",
   "metadata": {},
   "outputs": [
    {
     "data": {
      "text/plain": [
       "(264836, 8)"
      ]
     },
     "execution_count": 51,
     "metadata": {},
     "output_type": "execute_result"
    }
   ],
   "source": [
    "df_transaction.shape"
   ]
  },
  {
   "cell_type": "code",
   "execution_count": 53,
   "id": "47df3d81-0ab5-48e3-9edb-662bdf79c57e",
   "metadata": {},
   "outputs": [
    {
     "data": {
      "text/plain": [
       "DATE                int64\n",
       "STORE_NBR           int64\n",
       "LYLTY_CARD_NBR      int64\n",
       "TXN_ID              int64\n",
       "PROD_NBR            int64\n",
       "PROD_NAME          object\n",
       "PROD_QTY            int64\n",
       "TOT_SALES         float64\n",
       "dtype: object"
      ]
     },
     "execution_count": 53,
     "metadata": {},
     "output_type": "execute_result"
    }
   ],
   "source": [
    "df_transaction.dtypes"
   ]
  },
  {
   "cell_type": "code",
   "execution_count": 55,
   "id": "b5a64798-2d86-4779-b639-d0cff224334d",
   "metadata": {},
   "outputs": [
    {
     "name": "stdout",
     "output_type": "stream",
     "text": [
      "        DATE\n",
      "0 2018-10-17\n",
      "1 2019-05-14\n",
      "2 2019-05-20\n",
      "3 2018-08-17\n",
      "4 2018-08-18\n"
     ]
    }
   ],
   "source": [
    "# Convert Excel serial number to datetime\n",
    "df_transaction['DATE'] = pd.to_datetime(df_transaction['DATE'], origin='1899-12-30', unit='D')\n",
    "\n",
    "# Check if it worked\n",
    "print(df_transaction[['DATE']].head())"
   ]
  },
  {
   "cell_type": "code",
   "execution_count": 61,
   "id": "39e26890-59a6-4d2b-b56a-f63f2adf5d65",
   "metadata": {},
   "outputs": [],
   "source": [
    "#Convert Loyalty Card Number to string\n",
    "df_transaction['LYLTY_CARD_NBR'] = df_transaction['LYLTY_CARD_NBR'].astype(str)\n",
    "df_transaction['TXN_ID'] = df_transaction['TXN_ID'].astype(str)"
   ]
  },
  {
   "cell_type": "code",
   "execution_count": 63,
   "id": "4b6e8f3f-f8da-4d0f-87ff-08def5fdd045",
   "metadata": {},
   "outputs": [
    {
     "name": "stdout",
     "output_type": "stream",
     "text": [
      "DATE              0\n",
      "STORE_NBR         0\n",
      "LYLTY_CARD_NBR    0\n",
      "TXN_ID            0\n",
      "PROD_NBR          0\n",
      "PROD_NAME         0\n",
      "PROD_QTY          0\n",
      "TOT_SALES         0\n",
      "dtype: int64\n"
     ]
    }
   ],
   "source": [
    "#Check for missing values\n",
    "print(df_transaction.isnull().sum())"
   ]
  },
  {
   "cell_type": "code",
   "execution_count": 65,
   "id": "3a195e1f-b82c-47d0-a334-35e15e68e9a6",
   "metadata": {},
   "outputs": [
    {
     "data": {
      "text/plain": [
       "1"
      ]
     },
     "execution_count": 65,
     "metadata": {},
     "output_type": "execute_result"
    }
   ],
   "source": [
    "#Check for duplicates\n",
    "df_transaction.duplicated().sum()"
   ]
  },
  {
   "cell_type": "code",
   "execution_count": 67,
   "id": "d6064a80-15c0-4045-8652-12260e71a365",
   "metadata": {},
   "outputs": [
    {
     "data": {
      "text/plain": [
       "0"
      ]
     },
     "execution_count": 67,
     "metadata": {},
     "output_type": "execute_result"
    }
   ],
   "source": [
    "#Drop the duplicates\n",
    "df_transaction = df_transaction.drop_duplicates()\n",
    "df_transaction.duplicated().sum()"
   ]
  },
  {
   "cell_type": "code",
   "execution_count": 69,
   "id": "af6534b9-60dc-43a8-a644-4c0b0150fea9",
   "metadata": {},
   "outputs": [
    {
     "name": "stdout",
     "output_type": "stream",
     "text": [
      "count    264835.000000\n",
      "mean          1.907308\n",
      "std           0.643655\n",
      "min           1.000000\n",
      "25%           2.000000\n",
      "50%           2.000000\n",
      "75%           2.000000\n",
      "max         200.000000\n",
      "Name: PROD_QTY, dtype: float64\n"
     ]
    }
   ],
   "source": [
    "#Check numerical values descriptives\n",
    "print(df_transaction['PROD_QTY'].describe())"
   ]
  },
  {
   "cell_type": "code",
   "execution_count": 71,
   "id": "fd3e84e8-8909-4472-8eef-e82e4c8312a3",
   "metadata": {},
   "outputs": [
    {
     "data": {
      "image/png": "[encoded data removed]",
      "text/plain": [
       "<Figure size 640x480 with 1 Axes>"
      ]
     },
     "metadata": {},
     "output_type": "display_data"
    }
   ],
   "source": [
    "# Boxplot to detect product quantity\n",
    "sns.boxplot(x=df_transaction['PROD_QTY'])\n",
    "plt.title(\"Distribution of Product Quantity per Transaction\")\n",
    "\n",
    "# Show the plot\n",
    "plt.show()"
   ]
  },
  {
   "cell_type": "markdown",
   "id": "ca25f3d4-f718-452f-ae97-0ca7f8274bc5",
   "metadata": {},
   "source": [
    "##### # Since the box plot reveals extreme values reaching 200, I will investigate how many values exceed 10. This will help determine whether these high values are legitimate data points or potential errors. By creating a separate dataframe for values above 10, I can analyze them further and decide whether they should be kept, transformed, or removed based on their context and impact on the dataset."
   ]
  },
  {
   "cell_type": "code",
   "execution_count": 76,
   "id": "87a626c1-b755-4abc-a14d-2e219e7e31c6",
   "metadata": {},
   "outputs": [
    {
     "name": "stdout",
     "output_type": "stream",
     "text": [
      "            DATE  STORE_NBR LYLTY_CARD_NBR  TXN_ID  PROD_NBR  \\\n",
      "69762 2018-08-19        226         226000  226201         4   \n",
      "69763 2019-05-20        226         226000  226210         4   \n",
      "\n",
      "                              PROD_NAME  PROD_QTY  TOT_SALES  \n",
      "69762  Dorito Corn Chp     Supreme 380g       200      650.0  \n",
      "69763  Dorito Corn Chp     Supreme 380g       200      650.0  \n"
     ]
    }
   ],
   "source": [
    "#Create a bulk_purchase dataframe with purchase quantity above 10\n",
    "bulk_purchase = df_transaction[df_transaction['PROD_QTY'] > 10] \n",
    "print(bulk_purchase)"
   ]
  },
  {
   "cell_type": "markdown",
   "id": "17539b94-a538-4436-ad3f-70c771f9a099",
   "metadata": {},
   "source": [
    "##### These two extreme values (200 units) appear to be significant outliers in the dataset. Both transactions involve the same store (226), the same product (Dorito Corn Chip Supreme 380g), and the same total sales amount (650.0). Given that they are identical in multiple attributes, these could indicate a bulk purchase, a data entry error, or a special transaction (e.g., a promotional or wholesale purchase). Further investigation may be needed to confirm whether these values should be retained or adjusted, depending on the business context."
   ]
  },
  {
   "cell_type": "code",
   "execution_count": 82,
   "id": "8a245ccc-7365-4f5a-9482-6c7db6e1e41d",
   "metadata": {},
   "outputs": [
    {
     "name": "stdout",
     "output_type": "stream",
     "text": [
      "['Natural Chip        Compny SeaSalt175g' 'CCs Nacho Cheese    175g'\n",
      " 'Smiths Crinkle Cut  Chips Chicken 170g'\n",
      " 'Smiths Chip Thinly  S/Cream&Onion 175g'\n",
      " 'Kettle Tortilla ChpsHny&Jlpno Chili 150g'\n",
      " 'Old El Paso Salsa   Dip Tomato Mild 300g'\n",
      " 'Smiths Crinkle Chips Salt & Vinegar 330g'\n",
      " 'Grain Waves         Sweet Chilli 210g'\n",
      " 'Doritos Corn Chip Mexican Jalapeno 150g'\n",
      " 'Grain Waves Sour    Cream&Chives 210G'\n",
      " 'Kettle Sensations   Siracha Lime 150g' 'Twisties Cheese     270g'\n",
      " 'WW Crinkle Cut      Chicken 175g' 'Thins Chips Light&  Tangy 175g'\n",
      " 'CCs Original 175g' 'Burger Rings 220g'\n",
      " 'NCC Sour Cream &    Garden Chives 175g'\n",
      " 'Doritos Corn Chip Southern Chicken 150g' 'Cheezels Cheese Box 125g'\n",
      " 'Smiths Crinkle      Original 330g'\n",
      " 'Infzns Crn Crnchers Tangy Gcamole 110g'\n",
      " 'Kettle Sea Salt     And Vinegar 175g'\n",
      " 'Smiths Chip Thinly  Cut Original 175g' 'Kettle Original 175g'\n",
      " 'Red Rock Deli Thai  Chilli&Lime 150g' 'Pringles Sthrn FriedChicken 134g'\n",
      " 'Pringles Sweet&Spcy BBQ 134g' 'Red Rock Deli SR    Salsa & Mzzrlla 150g'\n",
      " 'Thins Chips         Originl saltd 175g'\n",
      " 'Red Rock Deli Sp    Salt & Truffle 150G'\n",
      " 'Smiths Thinly       Swt Chli&S/Cream175G' 'Kettle Chilli 175g'\n",
      " 'Doritos Mexicana    170g' 'Smiths Crinkle Cut  French OnionDip 150g'\n",
      " 'Natural ChipCo      Hony Soy Chckn175g'\n",
      " 'Dorito Corn Chp     Supreme 380g' 'Twisties Chicken270g'\n",
      " 'Smiths Thinly Cut   Roast Chicken 175g'\n",
      " 'Smiths Crinkle Cut  Tomato Salsa 150g'\n",
      " 'Kettle Mozzarella   Basil & Pesto 175g'\n",
      " 'Infuzions Thai SweetChili PotatoMix 110g'\n",
      " 'Kettle Sensations   Camembert & Fig 150g'\n",
      " 'Smith Crinkle Cut   Mac N Cheese 150g'\n",
      " 'Kettle Honey Soy    Chicken 175g' 'Thins Chips Seasonedchicken 175g'\n",
      " 'Smiths Crinkle Cut  Salt & Vinegar 170g'\n",
      " 'Infuzions BBQ Rib   Prawn Crackers 110g'\n",
      " 'GrnWves Plus Btroot & Chilli Jam 180g'\n",
      " 'Tyrrells Crisps     Lightly Salted 165g'\n",
      " 'Kettle Sweet Chilli And Sour Cream 175g'\n",
      " 'Doritos Salsa       Medium 300g' 'Kettle 135g Swt Pot Sea Salt'\n",
      " 'Pringles SourCream  Onion 134g' 'Doritos Corn Chips  Original 170g'\n",
      " 'Twisties Cheese     Burger 250g'\n",
      " 'Old El Paso Salsa   Dip Chnky Tom Ht300g'\n",
      " 'Cobs Popd Swt/Chlli &Sr/Cream Chips 110g'\n",
      " 'Woolworths Mild     Salsa 300g'\n",
      " 'Natural Chip Co     Tmato Hrb&Spce 175g'\n",
      " 'Smiths Crinkle Cut  Chips Original 170g'\n",
      " 'Cobs Popd Sea Salt  Chips 110g'\n",
      " 'Smiths Crinkle Cut  Chips Chs&Onion170g'\n",
      " 'French Fries Potato Chips 175g'\n",
      " 'Old El Paso Salsa   Dip Tomato Med 300g'\n",
      " 'Doritos Corn Chips  Cheese Supreme 170g'\n",
      " 'Pringles Original   Crisps 134g' 'RRD Chilli&         Coconut 150g'\n",
      " 'WW Original Corn    Chips 200g' 'Thins Potato Chips  Hot & Spicy 175g'\n",
      " 'Cobs Popd Sour Crm  &Chives Chips 110g'\n",
      " 'Smiths Crnkle Chip  Orgnl Big Bag 380g'\n",
      " 'Doritos Corn Chips  Nacho Cheese 170g'\n",
      " 'Kettle Sensations   BBQ&Maple 150g' 'WW D/Style Chip     Sea Salt 200g'\n",
      " 'Pringles Chicken    Salt Crips 134g' 'WW Original Stacked Chips 160g'\n",
      " 'Smiths Chip Thinly  CutSalt/Vinegr175g' 'Cheezels Cheese 330g'\n",
      " 'Tostitos Lightly    Salted 175g' 'Thins Chips Salt &  Vinegar 175g'\n",
      " 'Smiths Crinkle Cut  Chips Barbecue 170g' 'Cheetos Puffs 165g'\n",
      " 'RRD Sweet Chilli &  Sour Cream 165g' 'WW Crinkle Cut      Original 175g'\n",
      " 'Tostitos Splash Of  Lime 175g' 'Woolworths Medium   Salsa 300g'\n",
      " 'Kettle Tortilla ChpsBtroot&Ricotta 150g' 'CCs Tasty Cheese    175g'\n",
      " 'Woolworths Cheese   Rings 190g' 'Tostitos Smoked     Chipotle 175g'\n",
      " 'Pringles Barbeque   134g' 'WW Supreme Cheese   Corn Chips 200g'\n",
      " 'Pringles Mystery    Flavour 134g'\n",
      " 'Tyrrells Crisps     Ched & Chives 165g'\n",
      " 'Snbts Whlgrn Crisps Cheddr&Mstrd 90g' 'Cheetos Chs & Bacon Balls 190g'\n",
      " 'Pringles Slt Vingar 134g' 'Infuzions SourCream&Herbs Veg Strws 110g'\n",
      " 'Kettle Tortilla ChpsFeta&Garlic 150g'\n",
      " 'Infuzions Mango     Chutny Papadums 70g'\n",
      " 'RRD Steak &         Chimuchurri 150g' 'RRD Honey Soy       Chicken 165g'\n",
      " 'Sunbites Whlegrn    Crisps Frch/Onin 90g' 'RRD Salt & Vinegar  165g'\n",
      " 'Doritos Cheese      Supreme 330g' 'Smiths Crinkle Cut  Snag&Sauce 150g'\n",
      " 'WW Sour Cream &OnionStacked Chips 160g' 'RRD Lime & Pepper   165g'\n",
      " 'Natural ChipCo Sea  Salt & Vinegr 175g'\n",
      " 'Red Rock Deli Chikn&Garlic Aioli 150g'\n",
      " 'RRD SR Slow Rst     Pork Belly 150g' 'RRD Pc Sea Salt     165g'\n",
      " 'Smith Crinkle Cut   Bolognese 150g' 'Doritos Salsa Mild  300g']\n"
     ]
    }
   ],
   "source": [
    "#Check unique product names\n",
    "print(df_transaction['PROD_NAME'].unique())"
   ]
  },
  {
   "cell_type": "code",
   "execution_count": 84,
   "id": "cba55bd3-5328-4201-84eb-90082582736f",
   "metadata": {},
   "outputs": [
    {
     "data": {
      "text/plain": [
       "114"
      ]
     },
     "execution_count": 84,
     "metadata": {},
     "output_type": "execute_result"
    }
   ],
   "source": [
    "df_transaction['PROD_NAME'].nunique()"
   ]
  },
  {
   "cell_type": "markdown",
   "id": "17c7a9f4-9829-4996-a103-a85654b52c29",
   "metadata": {},
   "source": [
    "## Merging two dataframes"
   ]
  },
  {
   "cell_type": "code",
   "execution_count": 93,
   "id": "9d5d9ab8-0d91-4f08-b835-7baa3d64bcf1",
   "metadata": {},
   "outputs": [],
   "source": [
    "df_merged = df_purchase.merge(df_transaction, on='LYLTY_CARD_NBR', how='inner')"
   ]
  },
  {
   "cell_type": "code",
   "execution_count": 95,
   "id": "f7403744-b094-4a7b-93bf-c27cdcc254ac",
   "metadata": {},
   "outputs": [
    {
     "data": {
      "text/html": [
       "<div>\n",
       "<style scoped>\n",
       "    .dataframe tbody tr th:only-of-type {\n",
       "        vertical-align: middle;\n",
       "    }\n",
       "\n",
       "    .dataframe tbody tr th {\n",
       "        vertical-align: top;\n",
       "    }\n",
       "\n",
       "    .dataframe thead th {\n",
       "        text-align: right;\n",
       "    }\n",
       "</style>\n",
       "<table border=\"1\" class=\"dataframe\">\n",
       "  <thead>\n",
       "    <tr style=\"text-align: right;\">\n",
       "      <th></th>\n",
       "      <th>LYLTY_CARD_NBR</th>\n",
       "      <th>LIFESTAGE</th>\n",
       "      <th>PREMIUM_CUSTOMER</th>\n",
       "      <th>DATE</th>\n",
       "      <th>STORE_NBR</th>\n",
       "      <th>TXN_ID</th>\n",
       "      <th>PROD_NBR</th>\n",
       "      <th>PROD_NAME</th>\n",
       "      <th>PROD_QTY</th>\n",
       "      <th>TOT_SALES</th>\n",
       "    </tr>\n",
       "  </thead>\n",
       "  <tbody>\n",
       "    <tr>\n",
       "      <th>0</th>\n",
       "      <td>1000</td>\n",
       "      <td>YOUNG SINGLES/COUPLES</td>\n",
       "      <td>Premium</td>\n",
       "      <td>2018-10-17</td>\n",
       "      <td>1</td>\n",
       "      <td>1</td>\n",
       "      <td>5</td>\n",
       "      <td>Natural Chip        Compny SeaSalt175g</td>\n",
       "      <td>2</td>\n",
       "      <td>6.0</td>\n",
       "    </tr>\n",
       "    <tr>\n",
       "      <th>1</th>\n",
       "      <td>1002</td>\n",
       "      <td>YOUNG SINGLES/COUPLES</td>\n",
       "      <td>Mainstream</td>\n",
       "      <td>2018-09-16</td>\n",
       "      <td>1</td>\n",
       "      <td>2</td>\n",
       "      <td>58</td>\n",
       "      <td>Red Rock Deli Chikn&amp;Garlic Aioli 150g</td>\n",
       "      <td>1</td>\n",
       "      <td>2.7</td>\n",
       "    </tr>\n",
       "    <tr>\n",
       "      <th>2</th>\n",
       "      <td>1003</td>\n",
       "      <td>YOUNG FAMILIES</td>\n",
       "      <td>Budget</td>\n",
       "      <td>2019-03-07</td>\n",
       "      <td>1</td>\n",
       "      <td>3</td>\n",
       "      <td>52</td>\n",
       "      <td>Grain Waves Sour    Cream&amp;Chives 210G</td>\n",
       "      <td>1</td>\n",
       "      <td>3.6</td>\n",
       "    </tr>\n",
       "    <tr>\n",
       "      <th>3</th>\n",
       "      <td>1003</td>\n",
       "      <td>YOUNG FAMILIES</td>\n",
       "      <td>Budget</td>\n",
       "      <td>2019-03-08</td>\n",
       "      <td>1</td>\n",
       "      <td>4</td>\n",
       "      <td>106</td>\n",
       "      <td>Natural ChipCo      Hony Soy Chckn175g</td>\n",
       "      <td>1</td>\n",
       "      <td>3.0</td>\n",
       "    </tr>\n",
       "    <tr>\n",
       "      <th>4</th>\n",
       "      <td>1004</td>\n",
       "      <td>OLDER SINGLES/COUPLES</td>\n",
       "      <td>Mainstream</td>\n",
       "      <td>2018-11-02</td>\n",
       "      <td>1</td>\n",
       "      <td>5</td>\n",
       "      <td>96</td>\n",
       "      <td>WW Original Stacked Chips 160g</td>\n",
       "      <td>1</td>\n",
       "      <td>1.9</td>\n",
       "    </tr>\n",
       "  </tbody>\n",
       "</table>\n",
       "</div>"
      ],
      "text/plain": [
       "  LYLTY_CARD_NBR              LIFESTAGE PREMIUM_CUSTOMER       DATE  \\\n",
       "0           1000  YOUNG SINGLES/COUPLES          Premium 2018-10-17   \n",
       "1           1002  YOUNG SINGLES/COUPLES       Mainstream 2018-09-16   \n",
       "2           1003         YOUNG FAMILIES           Budget 2019-03-07   \n",
       "3           1003         YOUNG FAMILIES           Budget 2019-03-08   \n",
       "4           1004  OLDER SINGLES/COUPLES       Mainstream 2018-11-02   \n",
       "\n",
       "   STORE_NBR TXN_ID  PROD_NBR                               PROD_NAME  \\\n",
       "0          1      1         5  Natural Chip        Compny SeaSalt175g   \n",
       "1          1      2        58   Red Rock Deli Chikn&Garlic Aioli 150g   \n",
       "2          1      3        52   Grain Waves Sour    Cream&Chives 210G   \n",
       "3          1      4       106  Natural ChipCo      Hony Soy Chckn175g   \n",
       "4          1      5        96          WW Original Stacked Chips 160g   \n",
       "\n",
       "   PROD_QTY  TOT_SALES  \n",
       "0         2        6.0  \n",
       "1         1        2.7  \n",
       "2         1        3.6  \n",
       "3         1        3.0  \n",
       "4         1        1.9  "
      ]
     },
     "execution_count": 95,
     "metadata": {},
     "output_type": "execute_result"
    }
   ],
   "source": [
    "df_merged.head()"
   ]
  },
  {
   "cell_type": "code",
   "execution_count": 97,
   "id": "dc13bcaf-f7c0-4520-b733-b3dcddf31a64",
   "metadata": {},
   "outputs": [
    {
     "name": "stdout",
     "output_type": "stream",
     "text": [
      "LYLTY_CARD_NBR      0\n",
      "LIFESTAGE           0\n",
      "PREMIUM_CUSTOMER    0\n",
      "DATE                0\n",
      "STORE_NBR           0\n",
      "TXN_ID              0\n",
      "PROD_NBR            0\n",
      "PROD_NAME           0\n",
      "PROD_QTY            0\n",
      "TOT_SALES           0\n",
      "dtype: int64\n"
     ]
    }
   ],
   "source": [
    "#Count missing values\n",
    "print(df_merged.isnull().sum())"
   ]
  },
  {
   "cell_type": "code",
   "execution_count": 99,
   "id": "7547379e-409d-4abf-b4f2-fd40df44635b",
   "metadata": {},
   "outputs": [
    {
     "data": {
      "text/plain": [
       "0"
      ]
     },
     "execution_count": 99,
     "metadata": {},
     "output_type": "execute_result"
    }
   ],
   "source": [
    "df_merged.duplicated().sum()"
   ]
  },
  {
   "cell_type": "code",
   "execution_count": 101,
   "id": "bc7ef5c3-e19e-48a5-889b-dc1a9dfb4920",
   "metadata": {},
   "outputs": [
    {
     "data": {
      "text/plain": [
       "(264835, 10)"
      ]
     },
     "execution_count": 101,
     "metadata": {},
     "output_type": "execute_result"
    }
   ],
   "source": [
    "df_merged.shape"
   ]
  },
  {
   "cell_type": "markdown",
   "id": "bf7fb6cb-9bec-485b-8cb0-4ed2e9dce7ea",
   "metadata": {},
   "source": [
    "## Column Derivations"
   ]
  },
  {
   "cell_type": "markdown",
   "id": "33f7d49e-adf4-4ebf-92c9-7117f87fa3b4",
   "metadata": {},
   "source": [
    "### Derive PACK_SIZE column from PROD_NAME\n"
   ]
  },
  {
   "cell_type": "code",
   "execution_count": 105,
   "id": "e97519f4-b7b1-4b75-973f-9201e6160a2d",
   "metadata": {},
   "outputs": [
    {
     "name": "stdout",
     "output_type": "stream",
     "text": [
      "                                PROD_NAME  PACK_SIZE\n",
      "0  Natural Chip        Compny SeaSalt175g        175\n",
      "1   Red Rock Deli Chikn&Garlic Aioli 150g        150\n",
      "2   Grain Waves Sour    Cream&Chives 210G        210\n",
      "3  Natural ChipCo      Hony Soy Chckn175g        175\n",
      "4          WW Original Stacked Chips 160g        160\n"
     ]
    }
   ],
   "source": [
    "import re\n",
    "\n",
    "# Function to extract pack size\n",
    "def extract_pack_size(prod_name):\n",
    "    match = re.search(r'(\\d{2,3})[gG]', prod_name)  # Looks for a number followed by 'g'\n",
    "    return int(match.group(1)) if match else None  # Convert to integer\n",
    "\n",
    "# Apply function to create a new 'PACK_SIZE' column\n",
    "df_merged['PACK_SIZE'] = df_merged['PROD_NAME'].apply(extract_pack_size)\n",
    "\n",
    "# Check if it worked\n",
    "print(df_merged[['PROD_NAME', 'PACK_SIZE']].head())"
   ]
  },
  {
   "cell_type": "markdown",
   "id": "f7a116cc-a55e-42ef-9e7a-00040f5051e7",
   "metadata": {},
   "source": [
    "### Derive BRAND column from PROD_NAME"
   ]
  },
  {
   "cell_type": "code",
   "execution_count": 108,
   "id": "66348b51-b54c-48d3-9af4-3c3cf7a4f251",
   "metadata": {},
   "outputs": [
    {
     "name": "stdout",
     "output_type": "stream",
     "text": [
      "                                   PROD_NAME       BRAND\n",
      "0     Natural Chip        Compny SeaSalt175g     Natural\n",
      "1      Red Rock Deli Chikn&Garlic Aioli 150g         Red\n",
      "2      Grain Waves Sour    Cream&Chives 210G       Grain\n",
      "3     Natural ChipCo      Hony Soy Chckn175g     Natural\n",
      "4             WW Original Stacked Chips 160g          WW\n",
      "5                         Cheetos Puffs 165g     Cheetos\n",
      "6   Infuzions SourCream&Herbs Veg Strws 110g   Infuzions\n",
      "7        RRD SR Slow Rst     Pork Belly 150g         RRD\n",
      "8           Doritos Cheese      Supreme 330g     Doritos\n",
      "9                   Doritos Mexicana    170g     Doritos\n",
      "10   Old El Paso Salsa   Dip Tomato Med 300g         Old\n",
      "11     GrnWves Plus Btroot & Chilli Jam 180g     GrnWves\n",
      "12   Old El Paso Salsa   Dip Tomato Med 300g         Old\n",
      "13  Infuzions SourCream&Herbs Veg Strws 110g   Infuzions\n",
      "14   Smiths Crinkle Cut  Chips Barbecue 170g      Smiths\n",
      "15          Doritos Cheese      Supreme 330g     Doritos\n",
      "16  Kettle Sensations   Camembert & Fig 150g      Kettle\n",
      "17   Doritos Corn Chip Southern Chicken 150g     Doritos\n",
      "18                  CCs Tasty Cheese    175g         CCs\n",
      "19             Tostitos Splash Of  Lime 175g    Tostitos\n",
      "20              Kettle 135g Swt Pot Sea Salt      Kettle\n",
      "21  Kettle Sensations   Camembert & Fig 150g      Kettle\n",
      "22                  RRD Salt & Vinegar  165g         RRD\n",
      "23   Infuzions Mango     Chutny Papadums 70g   Infuzions\n",
      "24     GrnWves Plus Btroot & Chilli Jam 180g     GrnWves\n",
      "25       Smiths Crinkle Cut  Snag&Sauce 150g      Smiths\n",
      "26         Smiths Crinkle      Original 330g      Smiths\n",
      "27     GrnWves Plus Btroot & Chilli Jam 180g     GrnWves\n",
      "28  Kettle Sensations   Camembert & Fig 150g      Kettle\n",
      "29       RRD Sweet Chilli &  Sour Cream 165g         RRD\n",
      "30    Natural Chip        Compny SeaSalt175g     Natural\n",
      "31    Smiths Chip Thinly  S/Cream&Onion 175g      Smiths\n",
      "32                  CCs Tasty Cheese    175g         CCs\n",
      "33   Infuzions Mango     Chutny Papadums 70g   Infuzions\n",
      "34  Smiths Crinkle Chips Salt & Vinegar 330g      Smiths\n",
      "35  Red Rock Deli SR    Salsa & Mzzrlla 150g         Red\n",
      "36       RRD SR Slow Rst     Pork Belly 150g         RRD\n",
      "37            Cobs Popd Sea Salt  Chips 110g        Cobs\n",
      "38    Natural ChipCo Sea  Salt & Vinegr 175g     Natural\n",
      "39       RRD Sweet Chilli &  Sour Cream 165g         RRD\n",
      "40   Natural Chip Co     Tmato Hrb&Spce 175g     Natural\n",
      "41                         Burger Rings 220g      Burger\n",
      "42              Kettle 135g Swt Pot Sea Salt      Kettle\n",
      "43            Woolworths Cheese   Rings 190g  Woolworths\n",
      "44  Smiths Thinly       Swt Chli&S/Cream175G      Smiths\n",
      "45          Thins Chips Seasonedchicken 175g       Thins\n",
      "46    Smiths Thinly Cut   Roast Chicken 175g      Smiths\n",
      "47    Tyrrells Crisps     Ched & Chives 165g    Tyrrells\n",
      "48   Smiths Crinkle Cut  Chips Barbecue 170g      Smiths\n",
      "49   Doritos Corn Chips  Cheese Supreme 170g     Doritos\n"
     ]
    }
   ],
   "source": [
    "# Extract first word as brand name\n",
    "df_merged['BRAND'] = df_merged['PROD_NAME'].apply(lambda x: x.split()[0])\n",
    "\n",
    "# Check results\n",
    "print(df_merged[['PROD_NAME', 'BRAND']].head(50))"
   ]
  },
  {
   "cell_type": "code",
   "execution_count": 110,
   "id": "1fababc3-2316-4886-92b0-2c1b668ad57c",
   "metadata": {},
   "outputs": [
    {
     "name": "stdout",
     "output_type": "stream",
     "text": [
      "['Natural' 'Red' 'Grain' 'WW' 'Cheetos' 'Infuzions' 'RRD' 'Doritos' 'Old'\n",
      " 'GrnWves' 'Smiths' 'Kettle' 'CCs' 'Tostitos' 'Cobs' 'Burger' 'Woolworths'\n",
      " 'Thins' 'Tyrrells' 'Smith' 'Cheezels' 'Twisties' 'Sunbites' 'Snbts'\n",
      " 'Pringles' 'French' 'Infzns' 'Dorito' 'NCC']\n"
     ]
    }
   ],
   "source": [
    "# Get unique brand names in df_merged\n",
    "unique_brands = df_merged['BRAND'].unique()\n",
    "\n",
    "# Display the unique brand names\n",
    "print(unique_brands)"
   ]
  },
  {
   "cell_type": "code",
   "execution_count": 112,
   "id": "571a9464-ae68-435c-a758-3dfdf4c7c381",
   "metadata": {},
   "outputs": [
    {
     "name": "stdout",
     "output_type": "stream",
     "text": [
      "['Natural Chip Company' 'Red Rock Deli' 'Grain Waves' 'Woolworths'\n",
      " 'Cheetos' 'Infuzions' 'Doritos' 'Old' 'Smiths' 'Kettle' 'CCs' 'Tostitos'\n",
      " 'Cobs' 'Burger' 'Thins' 'Tyrrells' 'Cheezels' 'Twisties' 'Sunbites'\n",
      " 'Pringles' 'French Fries']\n"
     ]
    }
   ],
   "source": [
    "# Standardize brand names\n",
    "df_merged['BRAND'] = df_merged['BRAND'].replace({\n",
    "    'Infzns': 'Infuzions',\n",
    "    'RRD': 'Red Rock Deli',\n",
    "    'Red': 'Red Rock Deli',\n",
    "    'WW': 'Woolworths',\n",
    "    'GrnWves': 'Grain Waves',\n",
    "    'Grain': 'Grain Waves',\n",
    "    'Smith': 'Smiths',\n",
    "    'Dorito': 'Doritos',\n",
    "    'NCC': 'Natural Chip Company',\n",
    "    'Natural': 'Natural Chip Company',\n",
    "    'Natural Chip Co': 'Natural Chip Company',\n",
    "    'Snbts': 'Sunbites',\n",
    "    'French': 'French Fries',\n",
    "})\n",
    "\n",
    "# Check unique brands after standardization\n",
    "print(df_merged['BRAND'].unique())"
   ]
  },
  {
   "cell_type": "markdown",
   "id": "c4f13e26-85cd-433b-a63d-05be37732b6c",
   "metadata": {},
   "source": [
    "### Creating a new dataframe without the 2 outliers / bulk purchases"
   ]
  },
  {
   "cell_type": "markdown",
   "id": "cd3c79ac-82e7-407a-888e-33bf939bd3fc",
   "metadata": {},
   "source": [
    "##### After deriving new columns and standardizing brand names, I will create a new dataframe that excludes bulk purchases. Since the data analysis focuses on typical consumer behavior, removing these bulk transactions ensures that the insights are not skewed by unusually large purchases that do not reflect standard shopping patterns.\n",
    "\n",
    "\n",
    "\n",
    "\n",
    "\n",
    "\n",
    "\n"
   ]
  },
  {
   "cell_type": "code",
   "execution_count": 117,
   "id": "a20ae988-d004-4b96-b36b-75e684a0cde3",
   "metadata": {},
   "outputs": [],
   "source": [
    "df_merged['BULK_PURCHASE'] = df_merged['PROD_QTY'].apply(lambda x: 'YES' if x > 10 else 'NO')"
   ]
  },
  {
   "cell_type": "code",
   "execution_count": 119,
   "id": "1c684d8c-56a0-4f99-9cbd-0967187d8cb7",
   "metadata": {},
   "outputs": [],
   "source": [
    "df_bulk = df_merged[df_merged['BULK_PURCHASE'] == 'YES']\n",
    "df_normal = df_merged[df_merged['BULK_PURCHASE'] == 'NO']"
   ]
  },
  {
   "cell_type": "code",
   "execution_count": 121,
   "id": "b55511af-b82f-4e88-ae75-aead0f4b3160",
   "metadata": {},
   "outputs": [
    {
     "data": {
      "text/html": [
       "<div>\n",
       "<style scoped>\n",
       "    .dataframe tbody tr th:only-of-type {\n",
       "        vertical-align: middle;\n",
       "    }\n",
       "\n",
       "    .dataframe tbody tr th {\n",
       "        vertical-align: top;\n",
       "    }\n",
       "\n",
       "    .dataframe thead th {\n",
       "        text-align: right;\n",
       "    }\n",
       "</style>\n",
       "<table border=\"1\" class=\"dataframe\">\n",
       "  <thead>\n",
       "    <tr style=\"text-align: right;\">\n",
       "      <th></th>\n",
       "      <th>LYLTY_CARD_NBR</th>\n",
       "      <th>LIFESTAGE</th>\n",
       "      <th>PREMIUM_CUSTOMER</th>\n",
       "      <th>DATE</th>\n",
       "      <th>STORE_NBR</th>\n",
       "      <th>TXN_ID</th>\n",
       "      <th>PROD_NBR</th>\n",
       "      <th>PROD_NAME</th>\n",
       "      <th>PROD_QTY</th>\n",
       "      <th>TOT_SALES</th>\n",
       "      <th>PACK_SIZE</th>\n",
       "      <th>BRAND</th>\n",
       "      <th>BULK_PURCHASE</th>\n",
       "    </tr>\n",
       "  </thead>\n",
       "  <tbody>\n",
       "    <tr>\n",
       "      <th>0</th>\n",
       "      <td>1000</td>\n",
       "      <td>YOUNG SINGLES/COUPLES</td>\n",
       "      <td>Premium</td>\n",
       "      <td>2018-10-17</td>\n",
       "      <td>1</td>\n",
       "      <td>1</td>\n",
       "      <td>5</td>\n",
       "      <td>Natural Chip        Compny SeaSalt175g</td>\n",
       "      <td>2</td>\n",
       "      <td>6.0</td>\n",
       "      <td>175</td>\n",
       "      <td>Natural Chip Company</td>\n",
       "      <td>NO</td>\n",
       "    </tr>\n",
       "    <tr>\n",
       "      <th>1</th>\n",
       "      <td>1002</td>\n",
       "      <td>YOUNG SINGLES/COUPLES</td>\n",
       "      <td>Mainstream</td>\n",
       "      <td>2018-09-16</td>\n",
       "      <td>1</td>\n",
       "      <td>2</td>\n",
       "      <td>58</td>\n",
       "      <td>Red Rock Deli Chikn&amp;Garlic Aioli 150g</td>\n",
       "      <td>1</td>\n",
       "      <td>2.7</td>\n",
       "      <td>150</td>\n",
       "      <td>Red Rock Deli</td>\n",
       "      <td>NO</td>\n",
       "    </tr>\n",
       "    <tr>\n",
       "      <th>2</th>\n",
       "      <td>1003</td>\n",
       "      <td>YOUNG FAMILIES</td>\n",
       "      <td>Budget</td>\n",
       "      <td>2019-03-07</td>\n",
       "      <td>1</td>\n",
       "      <td>3</td>\n",
       "      <td>52</td>\n",
       "      <td>Grain Waves Sour    Cream&amp;Chives 210G</td>\n",
       "      <td>1</td>\n",
       "      <td>3.6</td>\n",
       "      <td>210</td>\n",
       "      <td>Grain Waves</td>\n",
       "      <td>NO</td>\n",
       "    </tr>\n",
       "    <tr>\n",
       "      <th>3</th>\n",
       "      <td>1003</td>\n",
       "      <td>YOUNG FAMILIES</td>\n",
       "      <td>Budget</td>\n",
       "      <td>2019-03-08</td>\n",
       "      <td>1</td>\n",
       "      <td>4</td>\n",
       "      <td>106</td>\n",
       "      <td>Natural ChipCo      Hony Soy Chckn175g</td>\n",
       "      <td>1</td>\n",
       "      <td>3.0</td>\n",
       "      <td>175</td>\n",
       "      <td>Natural Chip Company</td>\n",
       "      <td>NO</td>\n",
       "    </tr>\n",
       "    <tr>\n",
       "      <th>4</th>\n",
       "      <td>1004</td>\n",
       "      <td>OLDER SINGLES/COUPLES</td>\n",
       "      <td>Mainstream</td>\n",
       "      <td>2018-11-02</td>\n",
       "      <td>1</td>\n",
       "      <td>5</td>\n",
       "      <td>96</td>\n",
       "      <td>WW Original Stacked Chips 160g</td>\n",
       "      <td>1</td>\n",
       "      <td>1.9</td>\n",
       "      <td>160</td>\n",
       "      <td>Woolworths</td>\n",
       "      <td>NO</td>\n",
       "    </tr>\n",
       "  </tbody>\n",
       "</table>\n",
       "</div>"
      ],
      "text/plain": [
       "  LYLTY_CARD_NBR              LIFESTAGE PREMIUM_CUSTOMER       DATE  \\\n",
       "0           1000  YOUNG SINGLES/COUPLES          Premium 2018-10-17   \n",
       "1           1002  YOUNG SINGLES/COUPLES       Mainstream 2018-09-16   \n",
       "2           1003         YOUNG FAMILIES           Budget 2019-03-07   \n",
       "3           1003         YOUNG FAMILIES           Budget 2019-03-08   \n",
       "4           1004  OLDER SINGLES/COUPLES       Mainstream 2018-11-02   \n",
       "\n",
       "   STORE_NBR TXN_ID  PROD_NBR                               PROD_NAME  \\\n",
       "0          1      1         5  Natural Chip        Compny SeaSalt175g   \n",
       "1          1      2        58   Red Rock Deli Chikn&Garlic Aioli 150g   \n",
       "2          1      3        52   Grain Waves Sour    Cream&Chives 210G   \n",
       "3          1      4       106  Natural ChipCo      Hony Soy Chckn175g   \n",
       "4          1      5        96          WW Original Stacked Chips 160g   \n",
       "\n",
       "   PROD_QTY  TOT_SALES  PACK_SIZE                 BRAND BULK_PURCHASE  \n",
       "0         2        6.0        175  Natural Chip Company            NO  \n",
       "1         1        2.7        150         Red Rock Deli            NO  \n",
       "2         1        3.6        210           Grain Waves            NO  \n",
       "3         1        3.0        175  Natural Chip Company            NO  \n",
       "4         1        1.9        160            Woolworths            NO  "
      ]
     },
     "execution_count": 121,
     "metadata": {},
     "output_type": "execute_result"
    }
   ],
   "source": [
    "df_normal.head()"
   ]
  },
  {
   "cell_type": "code",
   "execution_count": 123,
   "id": "e1c18000-5490-497b-9dc1-4eee84d9f376",
   "metadata": {},
   "outputs": [
    {
     "data": {
      "text/html": [
       "<div>\n",
       "<style scoped>\n",
       "    .dataframe tbody tr th:only-of-type {\n",
       "        vertical-align: middle;\n",
       "    }\n",
       "\n",
       "    .dataframe tbody tr th {\n",
       "        vertical-align: top;\n",
       "    }\n",
       "\n",
       "    .dataframe thead th {\n",
       "        text-align: right;\n",
       "    }\n",
       "</style>\n",
       "<table border=\"1\" class=\"dataframe\">\n",
       "  <thead>\n",
       "    <tr style=\"text-align: right;\">\n",
       "      <th></th>\n",
       "      <th>LYLTY_CARD_NBR</th>\n",
       "      <th>LIFESTAGE</th>\n",
       "      <th>PREMIUM_CUSTOMER</th>\n",
       "      <th>DATE</th>\n",
       "      <th>STORE_NBR</th>\n",
       "      <th>TXN_ID</th>\n",
       "      <th>PROD_NBR</th>\n",
       "      <th>PROD_NAME</th>\n",
       "      <th>PROD_QTY</th>\n",
       "      <th>TOT_SALES</th>\n",
       "      <th>PACK_SIZE</th>\n",
       "      <th>BRAND</th>\n",
       "      <th>BULK_PURCHASE</th>\n",
       "    </tr>\n",
       "  </thead>\n",
       "  <tbody>\n",
       "    <tr>\n",
       "      <th>221624</th>\n",
       "      <td>226000</td>\n",
       "      <td>OLDER FAMILIES</td>\n",
       "      <td>Premium</td>\n",
       "      <td>2018-08-19</td>\n",
       "      <td>226</td>\n",
       "      <td>226201</td>\n",
       "      <td>4</td>\n",
       "      <td>Dorito Corn Chp     Supreme 380g</td>\n",
       "      <td>200</td>\n",
       "      <td>650.0</td>\n",
       "      <td>380</td>\n",
       "      <td>Doritos</td>\n",
       "      <td>YES</td>\n",
       "    </tr>\n",
       "    <tr>\n",
       "      <th>221625</th>\n",
       "      <td>226000</td>\n",
       "      <td>OLDER FAMILIES</td>\n",
       "      <td>Premium</td>\n",
       "      <td>2019-05-20</td>\n",
       "      <td>226</td>\n",
       "      <td>226210</td>\n",
       "      <td>4</td>\n",
       "      <td>Dorito Corn Chp     Supreme 380g</td>\n",
       "      <td>200</td>\n",
       "      <td>650.0</td>\n",
       "      <td>380</td>\n",
       "      <td>Doritos</td>\n",
       "      <td>YES</td>\n",
       "    </tr>\n",
       "  </tbody>\n",
       "</table>\n",
       "</div>"
      ],
      "text/plain": [
       "       LYLTY_CARD_NBR       LIFESTAGE PREMIUM_CUSTOMER       DATE  STORE_NBR  \\\n",
       "221624         226000  OLDER FAMILIES          Premium 2018-08-19        226   \n",
       "221625         226000  OLDER FAMILIES          Premium 2019-05-20        226   \n",
       "\n",
       "        TXN_ID  PROD_NBR                         PROD_NAME  PROD_QTY  \\\n",
       "221624  226201         4  Dorito Corn Chp     Supreme 380g       200   \n",
       "221625  226210         4  Dorito Corn Chp     Supreme 380g       200   \n",
       "\n",
       "        TOT_SALES  PACK_SIZE    BRAND BULK_PURCHASE  \n",
       "221624      650.0        380  Doritos           YES  \n",
       "221625      650.0        380  Doritos           YES  "
      ]
     },
     "execution_count": 123,
     "metadata": {},
     "output_type": "execute_result"
    }
   ],
   "source": [
    "df_bulk.head()"
   ]
  },
  {
   "cell_type": "markdown",
   "id": "bb22c780-9258-4555-a8ad-4fa2dfba0d72",
   "metadata": {},
   "source": [
    "# Exploratory analysis (EDA)"
   ]
  },
  {
   "cell_type": "code",
   "execution_count": 128,
   "id": "dfce5728-e170-44b9-8cf1-a269a960dcdb",
   "metadata": {
    "jupyter": {
     "source_hidden": true
    }
   },
   "outputs": [
    {
     "name": "stdout",
     "output_type": "stream",
     "text": [
      "Unique Customers: 72636\n",
      "Unique Stores: 272\n",
      "Unique Products: 114\n",
      "Customer Segments: ['YOUNG SINGLES/COUPLES' 'YOUNG FAMILIES' 'OLDER SINGLES/COUPLES'\n",
      " 'MIDAGE SINGLES/COUPLES' 'NEW FAMILIES' 'OLDER FAMILIES' 'RETIREES']\n",
      "Premium Segments: ['Premium' 'Mainstream' 'Budget']\n"
     ]
    }
   ],
   "source": [
    "#Check number of unique customers, stores, products, customer segments, and premium segments\n",
    "print(\"Unique Customers:\", df_normal['LYLTY_CARD_NBR'].nunique())\n",
    "print(\"Unique Stores:\", df_normal['STORE_NBR'].nunique())\n",
    "print(\"Unique Products:\", df_normal['PROD_NAME'].nunique())\n",
    "print(\"Customer Segments:\", df_normal['LIFESTAGE'].unique())\n",
    "print(\"Premium Segments:\", df_normal['PREMIUM_CUSTOMER'].unique())"
   ]
  },
  {
   "cell_type": "code",
   "execution_count": 170,
   "id": "0564d605-558b-459e-83d7-51435f139029",
   "metadata": {},
   "outputs": [
    {
     "name": "stdout",
     "output_type": "stream",
     "text": [
      "Total Revenue: 1933109.0\n"
     ]
    }
   ],
   "source": [
    "# Calculate total revenue\n",
    "total_revenue = df_normal['TOT_SALES'].sum()\n",
    "print(f\"Total Revenue: {total_revenue}\")"
   ]
  },
  {
   "cell_type": "code",
   "execution_count": 210,
   "id": "feb9f05e-93d4-43af-bfc3-bad993c0529f",
   "metadata": {},
   "outputs": [
    {
     "name": "stdout",
     "output_type": "stream",
     "text": [
      "Yearly Revenue:\n",
      " DATE\n",
      "2018    976435.15\n",
      "2019    956673.85\n",
      "Name: TOT_SALES, dtype: float64\n"
     ]
    }
   ],
   "source": [
    "# Calculate yearly revenue\n",
    "yearly_revenue = df_normal.groupby(df_normal['DATE'].dt.year)['TOT_SALES'].sum()\n",
    "print(\"Yearly Revenue:\\n\", yearly_revenue)"
   ]
  },
  {
   "cell_type": "code",
   "execution_count": 198,
   "id": "8fd985cd-c410-4928-922b-c0008b571c6e",
   "metadata": {},
   "outputs": [
    {
     "name": "stdout",
     "output_type": "stream",
     "text": [
      "Total Transactions: 263125\n"
     ]
    }
   ],
   "source": [
    "#Count of total transactions\n",
    "print(f\"Total Transactions: {df_normal['TXN_ID'].nunique()}\")"
   ]
  },
  {
   "cell_type": "code",
   "execution_count": 200,
   "id": "9893a4eb-a14b-444f-a563-3a2752fc9d2a",
   "metadata": {
    "scrolled": true
   },
   "outputs": [
    {
     "name": "stdout",
     "output_type": "stream",
     "text": [
      "Average Spend per Transaction: $7.30\n"
     ]
    }
   ],
   "source": [
    "print(f\"Average Spend per Transaction: ${df_normal['TOT_SALES'].mean():.2f}\")"
   ]
  },
  {
   "cell_type": "code",
   "execution_count": 206,
   "id": "eb5742d7-9e02-4a95-be32-003240e0655a",
   "metadata": {},
   "outputs": [
    {
     "data": {
      "text/html": [
       "<div>\n",
       "<style scoped>\n",
       "    .dataframe tbody tr th:only-of-type {\n",
       "        vertical-align: middle;\n",
       "    }\n",
       "\n",
       "    .dataframe tbody tr th {\n",
       "        vertical-align: top;\n",
       "    }\n",
       "\n",
       "    .dataframe thead th {\n",
       "        text-align: right;\n",
       "    }\n",
       "</style>\n",
       "<table border=\"1\" class=\"dataframe\">\n",
       "  <thead>\n",
       "    <tr style=\"text-align: right;\">\n",
       "      <th></th>\n",
       "      <th>PROD_QTY</th>\n",
       "      <th>TOT_SALES</th>\n",
       "    </tr>\n",
       "  </thead>\n",
       "  <tbody>\n",
       "    <tr>\n",
       "      <th>count</th>\n",
       "      <td>264833.000000</td>\n",
       "      <td>264833.000000</td>\n",
       "    </tr>\n",
       "    <tr>\n",
       "      <th>mean</th>\n",
       "      <td>1.905812</td>\n",
       "      <td>7.299351</td>\n",
       "    </tr>\n",
       "    <tr>\n",
       "      <th>std</th>\n",
       "      <td>0.343437</td>\n",
       "      <td>2.527244</td>\n",
       "    </tr>\n",
       "    <tr>\n",
       "      <th>min</th>\n",
       "      <td>1.000000</td>\n",
       "      <td>1.500000</td>\n",
       "    </tr>\n",
       "    <tr>\n",
       "      <th>25%</th>\n",
       "      <td>2.000000</td>\n",
       "      <td>5.400000</td>\n",
       "    </tr>\n",
       "    <tr>\n",
       "      <th>50%</th>\n",
       "      <td>2.000000</td>\n",
       "      <td>7.400000</td>\n",
       "    </tr>\n",
       "    <tr>\n",
       "      <th>75%</th>\n",
       "      <td>2.000000</td>\n",
       "      <td>9.200000</td>\n",
       "    </tr>\n",
       "    <tr>\n",
       "      <th>max</th>\n",
       "      <td>5.000000</td>\n",
       "      <td>29.500000</td>\n",
       "    </tr>\n",
       "  </tbody>\n",
       "</table>\n",
       "</div>"
      ],
      "text/plain": [
       "            PROD_QTY      TOT_SALES\n",
       "count  264833.000000  264833.000000\n",
       "mean        1.905812       7.299351\n",
       "std         0.343437       2.527244\n",
       "min         1.000000       1.500000\n",
       "25%         2.000000       5.400000\n",
       "50%         2.000000       7.400000\n",
       "75%         2.000000       9.200000\n",
       "max         5.000000      29.500000"
      ]
     },
     "execution_count": 206,
     "metadata": {},
     "output_type": "execute_result"
    }
   ],
   "source": [
    "df_normal[['PROD_QTY', 'TOT_SALES']].describe()"
   ]
  },
  {
   "cell_type": "code",
   "execution_count": 132,
   "id": "f24b0eca-2956-4c9e-ae40-61b66c13d9ce",
   "metadata": {},
   "outputs": [
    {
     "data": {
      "image/png": "[encoded data removed]",
      "text/plain": [
       "<Figure size 1200x500 with 2 Axes>"
      ]
     },
     "metadata": {},
     "output_type": "display_data"
    }
   ],
   "source": [
    "# Create histograms for TOT_SALES and PROD_QTY\n",
    "fig, axes = plt.subplots(1, 2, figsize=(12, 5))\n",
    "\n",
    "# Histogram for TOT_SALES\n",
    "axes[0].hist(df_normal['TOT_SALES'], bins=30, edgecolor='black', alpha=0.7)\n",
    "axes[0].set_title('Distribution of Total Sales (TOT_SALES)')\n",
    "axes[0].set_xlabel('Total Sales ($)')\n",
    "axes[0].set_ylabel('Frequency')\n",
    "\n",
    "# Histogram for PROD_QTY\n",
    "axes[1].hist(df_normal['PROD_QTY'], bins=30, edgecolor='black', alpha=0.7)\n",
    "axes[1].set_title('Distribution of Product Quantity (PROD_QTY)')\n",
    "axes[1].set_xlabel('Product Quantity per Transaction')\n",
    "axes[1].set_ylabel('Frequency')\n",
    "\n",
    "# Show the plots\n",
    "plt.tight_layout()\n",
    "plt.show()"
   ]
  },
  {
   "cell_type": "markdown",
   "id": "3396cc00-fc2b-43c6-8590-68c15dbdf565",
   "metadata": {},
   "source": [
    "#### Observations from the Histograms:\n",
    "1. Distribution of Total Sales (Left Histogram)\n",
    "The total sales per transaction mostly fall within the range of $3 to $15, with a peak around $5 to $10.\n",
    "There are very few transactions above $20, suggesting that most purchases are of lower to mid-value items.\n",
    "The distribution appears slightly right-skewed, indicating a small number of higher-value transactions.\n",
    "\n",
    "2. Distribution of Product Quantity per Transaction (Right Histogram)\n",
    "Most transactions involve purchasing 2 units of a product.\n",
    "There are very few transactions with 1 unit or more than 2 units, suggesting that buying in pairs is a common trend.\n",
    "Almost no transactions exceed 5 units, reinforcing that bulk purchases are rare in this dataset.\n",
    "\n",
    "\n",
    "Key Takeaways\n",
    "Customers generally spend between $3 and $15 per transaction.\n",
    "Most transactions involve purchasing exactly 2 units, which might indicate multi-buy promotions or consumer habits favoring purchasing in pairs."
   ]
  },
  {
   "cell_type": "markdown",
   "id": "6f4699f8-fe55-488c-8ed0-b70a0b577444",
   "metadata": {},
   "source": [
    "## Customer Profiles: Count & Spending by Lifestage and Premium Status"
   ]
  },
  {
   "cell_type": "markdown",
   "id": "9a27ee6c-a735-4346-ae8d-b95b27b52e57",
   "metadata": {},
   "source": [
    "### Lifestage"
   ]
  },
  {
   "cell_type": "code",
   "execution_count": 162,
   "id": "60494810-f5a1-4854-8605-4a31086c89aa",
   "metadata": {
    "scrolled": true
   },
   "outputs": [
    {
     "name": "stdout",
     "output_type": "stream",
     "text": [
      "LIFESTAGE             \n",
      "RETIREES                  14805\n",
      "OLDER SINGLES/COUPLES     14609\n",
      "YOUNG SINGLES/COUPLES     14441\n",
      "OLDER FAMILIES             9780\n",
      "YOUNG FAMILIES             9178\n",
      "MIDAGE SINGLES/COUPLES     7275\n",
      "NEW FAMILIES               2549\n",
      "Name: count, dtype: int64\n"
     ]
    }
   ],
   "source": [
    "#Check the count of unique customers in each LIFESTAGE\n",
    "print(df_purchase[['LIFESTAGE']].value_counts())"
   ]
  },
  {
   "cell_type": "code",
   "execution_count": 258,
   "id": "875f0173-d693-42fd-9e1b-65fa8e34f525",
   "metadata": {},
   "outputs": [
    {
     "data": {
      "image/png": "[encoded data removed]",
      "text/plain": [
       "<Figure size 800x600 with 1 Axes>"
      ]
     },
     "metadata": {},
     "output_type": "display_data"
    }
   ],
   "source": [
    "# Create the bar chart\n",
    "plt.figure(figsize=(8, 6))\n",
    "df_purchase['LIFESTAGE'].value_counts().plot(kind='bar', color='skyblue', edgecolor='black')\n",
    "\n",
    "# Labels and title\n",
    "plt.xlabel('Lifestage')\n",
    "plt.ylabel('Count')\n",
    "plt.title('Distribution of Lifestage')\n",
    "plt.xticks(rotation=45)\n",
    "plt.grid(axis='y', linestyle='--', alpha=0.7)\n",
    "\n",
    "# Show plot\n",
    "plt.show()"
   ]
  },
  {
   "cell_type": "markdown",
   "id": "267c3e91-98a3-4f70-8d64-72bc09d425a0",
   "metadata": {},
   "source": [
    "#### Customer distribution and by lifestage\n",
    "The largest groups are Retirees (14,805), Older Singles/Couples (14,609), and Young Singles/Couples (14,441), indicating that these segments make up a significant portion of the customer base.\n",
    "\n",
    "In contrast, New Families (2,549) represent the smallest group, suggesting that they are a niche segment or less engaged in purchases. Midage Singles/Couples (7,275) and Young Families (9,178) fall in the mid-range, while Older Families (9,780) are slightly larger but still notably smaller than the top three segments.\n"
   ]
  },
  {
   "cell_type": "code",
   "execution_count": 250,
   "id": "a365f1ab-f8ac-4c5a-9626-25dd6571ec4a",
   "metadata": {
    "scrolled": true
   },
   "outputs": [
    {
     "name": "stdout",
     "output_type": "stream",
     "text": [
      "LIFESTAGE\n",
      "MIDAGE SINGLES/COUPLES    7.357678\n",
      "NEW FAMILIES              7.289124\n",
      "OLDER FAMILIES            7.253307\n",
      "OLDER SINGLES/COUPLES     7.386849\n",
      "RETIREES                  7.364325\n",
      "YOUNG FAMILIES            7.252709\n",
      "YOUNG SINGLES/COUPLES     7.158515\n",
      "Name: TOT_SALES, dtype: float64\n"
     ]
    }
   ],
   "source": [
    "# Calculate the mean spend per transaction for each LIFESTAGE segment\n",
    "avg_spend_by_lifestage = df_normal.groupby('LIFESTAGE')['TOT_SALES'].mean()\n",
    "\n",
    "# Display results\n",
    "print(avg_spend_by_lifestage)"
   ]
  },
  {
   "cell_type": "code",
   "execution_count": 262,
   "id": "ae5a6869-e604-4428-a20c-f4c390fac40a",
   "metadata": {},
   "outputs": [
    {
     "data": {
      "image/png": "[encoded data removed]",
      "text/plain": [
       "<Figure size 800x600 with 1 Axes>"
      ]
     },
     "metadata": {},
     "output_type": "display_data"
    }
   ],
   "source": [
    "# Create bar plot\n",
    "plt.figure(figsize=(8, 6))\n",
    "avg_spend_by_lifestage.plot(kind='bar', color='cornflowerblue', edgecolor='black')\n",
    "\n",
    "# Labels and title\n",
    "plt.xlabel('Lifestage')\n",
    "plt.ylabel('Average Spend per Lifestage ($)')\n",
    "plt.title('Average Spend per Transaction by Lifestage')\n",
    "plt.xticks(rotation=90)\n",
    "plt.grid(axis='y', linestyle='--', alpha=0.7)\n",
    "\n",
    "# Show plot\n",
    "plt.show()\n"
   ]
  },
  {
   "cell_type": "markdown",
   "id": "4f1ca573-4ba9-4ba9-b462-e8dc9db75cd4",
   "metadata": {},
   "source": [
    "### Premium status"
   ]
  },
  {
   "cell_type": "code",
   "execution_count": 160,
   "id": "e19fe08d-8646-4a73-bea9-20372e2ac66d",
   "metadata": {},
   "outputs": [
    {
     "name": "stdout",
     "output_type": "stream",
     "text": [
      "PREMIUM_CUSTOMER\n",
      "Mainstream          29245\n",
      "Budget              24470\n",
      "Premium             18922\n",
      "Name: count, dtype: int64\n"
     ]
    }
   ],
   "source": [
    "#Check the count of unique customers in each segment\n",
    "print(df_purchase[['PREMIUM_CUSTOMER']].value_counts())"
   ]
  },
  {
   "cell_type": "code",
   "execution_count": 148,
   "id": "b6c2972c-2948-4643-83f1-a744b9598bff",
   "metadata": {},
   "outputs": [
    {
     "data": {
      "image/png": "[encoded data removed]",
      "text/plain": [
       "<Figure size 800x600 with 1 Axes>"
      ]
     },
     "metadata": {},
     "output_type": "display_data"
    }
   ],
   "source": [
    "# Create the bar chart\n",
    "plt.figure(figsize=(8, 6))\n",
    "df_purchase['PREMIUM_CUSTOMER'].value_counts().plot(kind='bar', color='skyblue', edgecolor='black')\n",
    "\n",
    "# Labels and title\n",
    "plt.xlabel('Premium Customer Status')\n",
    "plt.ylabel('Count')\n",
    "plt.title('Distribution of Premium Customers')\n",
    "plt.xticks(rotation=0)\n",
    "plt.grid(axis='y', linestyle='--', alpha=0.7)\n",
    "\n",
    "# Show plot\n",
    "plt.show()"
   ]
  },
  {
   "cell_type": "code",
   "execution_count": 236,
   "id": "f52ac15a-19ad-428f-ac99-4fefdcaf68d8",
   "metadata": {},
   "outputs": [
    {
     "name": "stdout",
     "output_type": "stream",
     "text": [
      "PREMIUM_CUSTOMER\n",
      "Budget        7.258838\n",
      "Mainstream    7.361106\n",
      "Premium       7.263129\n",
      "Name: TOT_SALES, dtype: float64\n"
     ]
    }
   ],
   "source": [
    "# Calculate the mean spend per transaction for each PREMIUM_CUSTOMER segment\n",
    "avg_spend_by_premium = df_normal.groupby('PREMIUM_CUSTOMER')['TOT_SALES'].mean()\n",
    "\n",
    "# Display results\n",
    "print(avg_spend_by_premium)"
   ]
  },
  {
   "cell_type": "code",
   "execution_count": 238,
   "id": "569c68ec-3c49-403e-aaf3-cbc6327ccc17",
   "metadata": {
    "scrolled": true
   },
   "outputs": [
    {
     "data": {
      "image/png": "[encoded data removed]",
      "text/plain": [
       "<Figure size 800x600 with 1 Axes>"
      ]
     },
     "metadata": {},
     "output_type": "display_data"
    }
   ],
   "source": [
    "# Create bar plot\n",
    "plt.figure(figsize=(8, 6))\n",
    "avg_spend_by_premium.plot(kind='bar', color='cornflowerblue', edgecolor='black')\n",
    "\n",
    "# Labels and title\n",
    "plt.xlabel('Premium Customer Status')\n",
    "plt.ylabel('Average Spend per Transaction ($)')\n",
    "plt.title('Average Spend per Transaction by Premium Status')\n",
    "plt.xticks(rotation=0)\n",
    "plt.grid(axis='y', linestyle='--', alpha=0.7)\n",
    "\n",
    "# Show plot\n",
    "plt.show()\n"
   ]
  },
  {
   "cell_type": "code",
   "execution_count": 240,
   "id": "680f8344-b768-4b85-bf0f-3bbc1bdf153e",
   "metadata": {},
   "outputs": [
    {
     "data": {
      "text/plain": [
       "PREMIUM_CUSTOMER\n",
       "Budget         93157\n",
       "Mainstream    101988\n",
       "Premium        69688\n",
       "Name: TXN_ID, dtype: int64"
      ]
     },
     "execution_count": 240,
     "metadata": {},
     "output_type": "execute_result"
    }
   ],
   "source": [
    "df_normal.groupby('PREMIUM_CUSTOMER')['TXN_ID'].count()"
   ]
  },
  {
   "cell_type": "code",
   "execution_count": 246,
   "id": "88b669a4-bc92-4152-b561-f5bf95668f34",
   "metadata": {},
   "outputs": [
    {
     "data": {
      "text/plain": [
       "PREMIUM_CUSTOMER\n",
       "Budget        182.181479\n",
       "Mainstream    182.834520\n",
       "Premium       182.153255\n",
       "Name: PACK_SIZE, dtype: float64"
      ]
     },
     "execution_count": 246,
     "metadata": {},
     "output_type": "execute_result"
    }
   ],
   "source": [
    "df_normal.groupby('PREMIUM_CUSTOMER')['PACK_SIZE'].mean().head(10)"
   ]
  },
  {
   "cell_type": "markdown",
   "id": "77fecfdb-9773-4cec-af3c-bd1e23f29d6a",
   "metadata": {},
   "source": [
    "### Products"
   ]
  },
  {
   "cell_type": "code",
   "execution_count": 181,
   "id": "820d5f6b-fb7a-4adb-a689-6f1120b3bfaa",
   "metadata": {},
   "outputs": [
    {
     "data": {
      "text/plain": [
       "PROD_NAME\n",
       "Dorito Corn Chp     Supreme 380g            39052.0\n",
       "Smiths Crnkle Chip  Orgnl Big Bag 380g      36367.6\n",
       "Smiths Crinkle Chips Salt & Vinegar 330g    34804.2\n",
       "Kettle Mozzarella   Basil & Pesto 175g      34457.4\n",
       "Smiths Crinkle      Original 330g           34302.6\n",
       "Cheezels Cheese 330g                        34296.9\n",
       "Doritos Cheese      Supreme 330g            33390.6\n",
       "Kettle Sweet Chilli And Sour Cream 175g     33031.8\n",
       "Kettle Original 175g                        32740.2\n",
       "Kettle Sea Salt     And Vinegar 175g        32589.0\n",
       "Name: TOT_SALES, dtype: float64"
      ]
     },
     "execution_count": 181,
     "metadata": {},
     "output_type": "execute_result"
    }
   ],
   "source": [
    "# Best-selling products\n",
    "df_normal.groupby('PROD_NAME')['TOT_SALES'].sum().sort_values(ascending=False).head(10)"
   ]
  },
  {
   "cell_type": "markdown",
   "id": "46ea6812-a437-4726-8c5b-7a612e4146a5",
   "metadata": {},
   "source": [
    "### Brands"
   ]
  },
  {
   "cell_type": "code",
   "execution_count": 264,
   "id": "acd5afda-0970-4533-82c2-90cd531fc8b4",
   "metadata": {},
   "outputs": [
    {
     "data": {
      "text/plain": [
       "BRAND\n",
       "Kettle                  390239.8\n",
       "Doritos                 240590.9\n",
       "Smiths                  224654.2\n",
       "Pringles                177655.5\n",
       "Infuzions                99047.6\n",
       "Red Rock Deli            95046.0\n",
       "Old                      90785.1\n",
       "Thins                    88852.5\n",
       "Twisties                 81522.1\n",
       "Tostitos                 79789.6\n",
       "Cobs                     70569.8\n",
       "Tyrrells                 51647.4\n",
       "Grain Waves              51617.2\n",
       "Woolworths               49343.6\n",
       "Natural Chip Company     42318.0\n",
       "Cheezels                 40029.9\n",
       "CCs                      18078.9\n",
       "Cheetos                  16884.5\n",
       "Sunbites                  9676.4\n",
       "French Fries              7929.0\n",
       "Burger                    6831.0\n",
       "Name: TOT_SALES, dtype: float64"
      ]
     },
     "execution_count": 264,
     "metadata": {},
     "output_type": "execute_result"
    }
   ],
   "source": [
    "df_normal.groupby('BRAND')['TOT_SALES'].sum().sort_values(ascending=False)"
   ]
  },
  {
   "cell_type": "markdown",
   "id": "905abbf9-973e-4eb0-bf84-b889a6f8b7f9",
   "metadata": {},
   "source": [
    "### Stores"
   ]
  },
  {
   "cell_type": "code",
   "execution_count": 184,
   "id": "c5b74a31-5958-4974-b1f3-b0497bc15526",
   "metadata": {},
   "outputs": [
    {
     "data": {
      "text/plain": [
       "STORE_NBR\n",
       "226    17605.45\n",
       "88     16333.25\n",
       "165    15973.75\n",
       "40     15559.50\n",
       "237    15539.50\n",
       "58     15251.45\n",
       "199    14797.00\n",
       "4      14647.65\n",
       "203    14551.60\n",
       "26     14469.30\n",
       "Name: TOT_SALES, dtype: float64"
      ]
     },
     "execution_count": 184,
     "metadata": {},
     "output_type": "execute_result"
    }
   ],
   "source": [
    "df_normal.groupby('STORE_NBR')['TOT_SALES'].sum().sort_values(ascending=False).head(10)"
   ]
  },
  {
   "cell_type": "markdown",
   "id": "ed140c3a-676a-47c0-a162-7d6eb45edd17",
   "metadata": {},
   "source": [
    "### Package size"
   ]
  },
  {
   "cell_type": "code",
   "execution_count": 192,
   "id": "9b00dcc6-4534-483d-a51c-e8a31f454428",
   "metadata": {},
   "outputs": [
    {
     "data": {
      "text/plain": [
       "PACK_SIZE\n",
       "70       6852.0\n",
       "90       9676.4\n",
       "110    162765.4\n",
       "125      5733.0\n",
       "134    177655.5\n",
       "135     26090.4\n",
       "150    304288.5\n",
       "160     10647.6\n",
       "165    101360.6\n",
       "170    146673.0\n",
       "175    485431.4\n",
       "180      8568.4\n",
       "190     14412.9\n",
       "200     16007.5\n",
       "210     43048.8\n",
       "220      6831.0\n",
       "250     26096.7\n",
       "270     55425.4\n",
       "300    113330.6\n",
       "330    136794.3\n",
       "380     75419.6\n",
       "Name: TOT_SALES, dtype: float64"
      ]
     },
     "execution_count": 192,
     "metadata": {},
     "output_type": "execute_result"
    }
   ],
   "source": [
    "df_normal.groupby('PACK_SIZE')['TOT_SALES'].sum()"
   ]
  },
  {
   "cell_type": "code",
   "execution_count": 202,
   "id": "9cf50524-7625-4850-bc16-535281742a40",
   "metadata": {},
   "outputs": [
    {
     "data": {
      "text/plain": [
       "<seaborn.axisgrid.FacetGrid at 0x300401ad0>"
      ]
     },
     "execution_count": 202,
     "metadata": {},
     "output_type": "execute_result"
    },
    {
     "data": {
      "image/png": "[encoded data removed]",
      "text/plain": [
       "<Figure size 500x500 with 1 Axes>"
      ]
     },
     "metadata": {},
     "output_type": "display_data"
    }
   ],
   "source": [
    "sns.lmplot(x = 'PACK_SIZE', y = 'TOT_SALES', data = df_normal)"
   ]
  },
  {
   "cell_type": "code",
   "execution_count": null,
   "id": "15187b7e-fa93-44eb-b290-1c885c00ea18",
   "metadata": {},
   "outputs": [],
   "source": []
  }
 ],
 "metadata": {
  "kernelspec": {
   "display_name": "Python [conda env:base] *",
   "language": "python",
   "name": "conda-base-py"
  },
  "language_info": {
   "codemirror_mode": {
    "name": "ipython",
    "version": 3
   },
   "file_extension": ".py",
   "mimetype": "text/x-python",
   "name": "python",
   "nbconvert_exporter": "python",
   "pygments_lexer": "ipython3",
   "version": "3.11.7"
  }
 },
 "nbformat": 4,
 "nbformat_minor": 5
}
